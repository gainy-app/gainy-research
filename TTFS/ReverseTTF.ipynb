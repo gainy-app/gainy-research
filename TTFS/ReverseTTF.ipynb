{
 "cells": [
  {
   "cell_type": "code",
   "execution_count": 1,
   "id": "6a20a968",
   "metadata": {},
   "outputs": [],
   "source": [
    "import pandas as pd\n",
    "import numpy as np\n",
    "from utils.connect import GetQuery, GetPrices\n",
    "from utils.optimizer import GainyOptimizer\n",
    "from utils.portfolio import ReturnPortfolio\n",
    "from tqdm import tqdm"
   ]
  },
  {
   "cell_type": "code",
   "execution_count": 43,
   "id": "740fbd82",
   "metadata": {},
   "outputs": [],
   "source": [
    "ticker_list = ['SH', 'EFZ', 'SJB', 'SVOL', 'SGOL']"
   ]
  },
  {
   "cell_type": "markdown",
   "id": "861eb32f",
   "metadata": {},
   "source": [
    "- SH - ProShares Short S&P500 (SH)\n",
    "- EFZ - ProShares Short MSCI EAFE (EFZ)\n",
    "- SJB - Proshares Short High Yield (SJB)\n",
    "- SVOL - Simplify Volatility Premium ETF (SVOL)\n",
    "- SGOL - abrdn Physical Gold Shares ETF (SGOL)"
   ]
  },
  {
   "cell_type": "code",
   "execution_count": 44,
   "id": "bb4a64c9",
   "metadata": {},
   "outputs": [
    {
     "data": {
      "text/html": [
       "<div>\n",
       "<style scoped>\n",
       "    .dataframe tbody tr th:only-of-type {\n",
       "        vertical-align: middle;\n",
       "    }\n",
       "\n",
       "    .dataframe tbody tr th {\n",
       "        vertical-align: top;\n",
       "    }\n",
       "\n",
       "    .dataframe thead th {\n",
       "        text-align: right;\n",
       "    }\n",
       "</style>\n",
       "<table border=\"1\" class=\"dataframe\">\n",
       "  <thead>\n",
       "    <tr style=\"text-align: right;\">\n",
       "      <th></th>\n",
       "      <th>EFZ</th>\n",
       "      <th>SGOL</th>\n",
       "      <th>SH</th>\n",
       "      <th>SJB</th>\n",
       "      <th>SVOL</th>\n",
       "    </tr>\n",
       "    <tr>\n",
       "      <th>date</th>\n",
       "      <th></th>\n",
       "      <th></th>\n",
       "      <th></th>\n",
       "      <th></th>\n",
       "      <th></th>\n",
       "    </tr>\n",
       "  </thead>\n",
       "  <tbody>\n",
       "    <tr>\n",
       "      <th>2015-01-02</th>\n",
       "      <td>34.0254</td>\n",
       "      <td>11.632</td>\n",
       "      <td>42.3935</td>\n",
       "      <td>27.4245</td>\n",
       "      <td>NaN</td>\n",
       "    </tr>\n",
       "    <tr>\n",
       "      <th>2015-01-05</th>\n",
       "      <td>34.8305</td>\n",
       "      <td>11.810</td>\n",
       "      <td>43.0935</td>\n",
       "      <td>27.7775</td>\n",
       "      <td>NaN</td>\n",
       "    </tr>\n",
       "    <tr>\n",
       "      <th>2015-01-06</th>\n",
       "      <td>35.2232</td>\n",
       "      <td>11.939</td>\n",
       "      <td>43.5599</td>\n",
       "      <td>27.8559</td>\n",
       "      <td>NaN</td>\n",
       "    </tr>\n",
       "    <tr>\n",
       "      <th>2015-01-07</th>\n",
       "      <td>34.8500</td>\n",
       "      <td>11.869</td>\n",
       "      <td>42.9767</td>\n",
       "      <td>27.6794</td>\n",
       "      <td>NaN</td>\n",
       "    </tr>\n",
       "    <tr>\n",
       "      <th>2015-01-08</th>\n",
       "      <td>34.3593</td>\n",
       "      <td>11.820</td>\n",
       "      <td>42.2382</td>\n",
       "      <td>27.3951</td>\n",
       "      <td>NaN</td>\n",
       "    </tr>\n",
       "    <tr>\n",
       "      <th>...</th>\n",
       "      <td>...</td>\n",
       "      <td>...</td>\n",
       "      <td>...</td>\n",
       "      <td>...</td>\n",
       "      <td>...</td>\n",
       "    </tr>\n",
       "    <tr>\n",
       "      <th>2022-12-14</th>\n",
       "      <td>19.4500</td>\n",
       "      <td>17.300</td>\n",
       "      <td>15.4200</td>\n",
       "      <td>18.6400</td>\n",
       "      <td>22.28</td>\n",
       "    </tr>\n",
       "    <tr>\n",
       "      <th>2022-12-15</th>\n",
       "      <td>19.9800</td>\n",
       "      <td>17.020</td>\n",
       "      <td>15.8200</td>\n",
       "      <td>18.7200</td>\n",
       "      <td>21.98</td>\n",
       "    </tr>\n",
       "    <tr>\n",
       "      <th>2022-12-16</th>\n",
       "      <td>20.1500</td>\n",
       "      <td>17.180</td>\n",
       "      <td>16.0100</td>\n",
       "      <td>18.8200</td>\n",
       "      <td>21.96</td>\n",
       "    </tr>\n",
       "    <tr>\n",
       "      <th>2022-12-19</th>\n",
       "      <td>20.1900</td>\n",
       "      <td>17.130</td>\n",
       "      <td>16.1500</td>\n",
       "      <td>18.9100</td>\n",
       "      <td>22.09</td>\n",
       "    </tr>\n",
       "    <tr>\n",
       "      <th>2022-12-20</th>\n",
       "      <td>20.1400</td>\n",
       "      <td>17.420</td>\n",
       "      <td>16.1200</td>\n",
       "      <td>18.9700</td>\n",
       "      <td>22.15</td>\n",
       "    </tr>\n",
       "  </tbody>\n",
       "</table>\n",
       "<p>2007 rows × 5 columns</p>\n",
       "</div>"
      ],
      "text/plain": [
       "                EFZ    SGOL       SH      SJB   SVOL\n",
       "date                                                \n",
       "2015-01-02  34.0254  11.632  42.3935  27.4245    NaN\n",
       "2015-01-05  34.8305  11.810  43.0935  27.7775    NaN\n",
       "2015-01-06  35.2232  11.939  43.5599  27.8559    NaN\n",
       "2015-01-07  34.8500  11.869  42.9767  27.6794    NaN\n",
       "2015-01-08  34.3593  11.820  42.2382  27.3951    NaN\n",
       "...             ...     ...      ...      ...    ...\n",
       "2022-12-14  19.4500  17.300  15.4200  18.6400  22.28\n",
       "2022-12-15  19.9800  17.020  15.8200  18.7200  21.98\n",
       "2022-12-16  20.1500  17.180  16.0100  18.8200  21.96\n",
       "2022-12-19  20.1900  17.130  16.1500  18.9100  22.09\n",
       "2022-12-20  20.1400  17.420  16.1200  18.9700  22.15\n",
       "\n",
       "[2007 rows x 5 columns]"
      ]
     },
     "execution_count": 44,
     "metadata": {},
     "output_type": "execute_result"
    }
   ],
   "source": [
    "# Get Prices\n",
    "prices = GetPrices(ticker_list, \"2015-01-01\", \"2022-12-20\")\n",
    "prices"
   ]
  },
  {
   "cell_type": "code",
   "execution_count": 45,
   "id": "dcb93d08",
   "metadata": {},
   "outputs": [
    {
     "data": {
      "text/plain": [
       "set()"
      ]
     },
     "execution_count": 45,
     "metadata": {},
     "output_type": "execute_result"
    }
   ],
   "source": [
    "# Back test optimization\n",
    "tradable = pd.read_csv(\"./Instruments List_PROD_NOV2022.csv\").Symbol\n",
    "set(ticker_list) - set(tradable)"
   ]
  },
  {
   "cell_type": "markdown",
   "id": "b4a5abbf",
   "metadata": {},
   "source": [
    "**NOTE DIFFERENT PARAMETERS HS HI**"
   ]
  },
  {
   "cell_type": "code",
   "execution_count": 46,
   "id": "2033b332",
   "metadata": {},
   "outputs": [],
   "source": [
    "params = {'bounds': (0.01, 0.3), 'penalties': {'hs': 0.5, 'hi': 0, 'b': 0.05}}"
   ]
  },
  {
   "cell_type": "code",
   "execution_count": 47,
   "id": "b33df04a",
   "metadata": {},
   "outputs": [],
   "source": [
    "start_date = '2015-01-01'\n",
    "end_date = '2022-12-20'\n",
    "rebalance_dates = pd.date_range(start_date,end_date, freq='BM').strftime(\"%Y-%m-%d\").tolist()\n"
   ]
  },
  {
   "cell_type": "code",
   "execution_count": 48,
   "id": "1ac037db",
   "metadata": {},
   "outputs": [
    {
     "name": "stderr",
     "output_type": "stream",
     "text": [
      "  0%|                                                    | 0/95 [00:00<?, ?it/s]WARNING:root:\n",
      "We do not support the following tickers ['SVOL'].\n",
      "They will be dropped from the optimization\n",
      "\n",
      "  1%|▍                                           | 1/95 [00:00<00:58,  1.61it/s]WARNING:root:\n",
      "We do not support the following tickers ['SVOL'].\n",
      "They will be dropped from the optimization\n",
      "\n",
      "  2%|▉                                           | 2/95 [00:01<00:59,  1.57it/s]WARNING:root:\n",
      "We do not support the following tickers ['SVOL'].\n",
      "They will be dropped from the optimization\n",
      "\n",
      "  3%|█▍                                          | 3/95 [00:01<00:59,  1.55it/s]WARNING:root:\n",
      "We do not support the following tickers ['SVOL'].\n",
      "They will be dropped from the optimization\n",
      "\n",
      "  4%|█▊                                          | 4/95 [00:02<00:57,  1.59it/s]WARNING:root:\n",
      "We do not support the following tickers ['SVOL'].\n",
      "They will be dropped from the optimization\n",
      "\n",
      "  5%|██▎                                         | 5/95 [00:03<00:57,  1.56it/s]WARNING:root:\n",
      "We do not support the following tickers ['SVOL'].\n",
      "They will be dropped from the optimization\n",
      "\n",
      "  6%|██▊                                         | 6/95 [00:03<00:56,  1.58it/s]WARNING:root:\n",
      "We do not support the following tickers ['SVOL'].\n",
      "They will be dropped from the optimization\n",
      "\n",
      "  7%|███▏                                        | 7/95 [00:04<00:55,  1.59it/s]WARNING:root:\n",
      "We do not support the following tickers ['SVOL'].\n",
      "They will be dropped from the optimization\n",
      "\n",
      "  8%|███▋                                        | 8/95 [00:05<00:53,  1.62it/s]WARNING:root:\n",
      "We do not support the following tickers ['SVOL'].\n",
      "They will be dropped from the optimization\n",
      "\n",
      "  9%|████▏                                       | 9/95 [00:05<00:53,  1.61it/s]WARNING:root:\n",
      "We do not support the following tickers ['SVOL'].\n",
      "They will be dropped from the optimization\n",
      "\n",
      " 11%|████▌                                      | 10/95 [00:06<00:52,  1.61it/s]WARNING:root:\n",
      "We do not support the following tickers ['SVOL'].\n",
      "They will be dropped from the optimization\n",
      "\n",
      " 12%|████▉                                      | 11/95 [00:06<00:52,  1.61it/s]WARNING:root:\n",
      "We do not support the following tickers ['SVOL'].\n",
      "They will be dropped from the optimization\n",
      "\n",
      " 13%|█████▍                                     | 12/95 [00:07<00:51,  1.63it/s]WARNING:root:\n",
      "We do not support the following tickers ['SVOL'].\n",
      "They will be dropped from the optimization\n",
      "\n",
      " 14%|█████▉                                     | 13/95 [00:08<00:50,  1.63it/s]WARNING:root:\n",
      "We do not support the following tickers ['SVOL'].\n",
      "They will be dropped from the optimization\n",
      "\n",
      " 15%|██████▎                                    | 14/95 [00:08<00:50,  1.59it/s]WARNING:root:\n",
      "We do not support the following tickers ['SVOL'].\n",
      "They will be dropped from the optimization\n",
      "\n",
      " 16%|██████▊                                    | 15/95 [00:09<00:49,  1.61it/s]WARNING:root:\n",
      "We do not support the following tickers ['SVOL'].\n",
      "They will be dropped from the optimization\n",
      "\n",
      " 17%|███████▏                                   | 16/95 [00:09<00:48,  1.64it/s]WARNING:root:\n",
      "We do not support the following tickers ['SVOL'].\n",
      "They will be dropped from the optimization\n",
      "\n",
      " 18%|███████▋                                   | 17/95 [00:10<00:48,  1.60it/s]WARNING:root:\n",
      "We do not support the following tickers ['SVOL'].\n",
      "They will be dropped from the optimization\n",
      "\n",
      " 19%|████████▏                                  | 18/95 [00:11<00:47,  1.61it/s]WARNING:root:\n",
      "We do not support the following tickers ['SVOL'].\n",
      "They will be dropped from the optimization\n",
      "\n",
      " 20%|████████▌                                  | 19/95 [00:11<00:47,  1.61it/s]WARNING:root:\n",
      "We do not support the following tickers ['SVOL'].\n",
      "They will be dropped from the optimization\n",
      "\n",
      " 21%|█████████                                  | 20/95 [00:14<01:25,  1.14s/it]WARNING:root:\n",
      "We do not support the following tickers ['SVOL'].\n",
      "They will be dropped from the optimization\n",
      "\n",
      " 22%|█████████▌                                 | 21/95 [00:15<01:21,  1.10s/it]WARNING:root:\n",
      "We do not support the following tickers ['SVOL'].\n",
      "They will be dropped from the optimization\n",
      "\n",
      " 23%|█████████▉                                 | 22/95 [00:16<01:34,  1.30s/it]WARNING:root:\n",
      "We do not support the following tickers ['SVOL'].\n",
      "They will be dropped from the optimization\n",
      "\n",
      " 24%|██████████▍                                | 23/95 [00:17<01:22,  1.14s/it]WARNING:root:\n",
      "We do not support the following tickers ['SVOL'].\n",
      "They will be dropped from the optimization\n",
      "\n",
      " 25%|██████████▊                                | 24/95 [00:19<01:31,  1.29s/it]WARNING:root:\n",
      "We do not support the following tickers ['SVOL'].\n",
      "They will be dropped from the optimization\n",
      "\n",
      " 26%|███████████▎                               | 25/95 [00:19<01:15,  1.08s/it]WARNING:root:\n",
      "We do not support the following tickers ['SVOL'].\n",
      "They will be dropped from the optimization\n",
      "\n",
      " 27%|███████████▊                               | 26/95 [00:20<01:07,  1.02it/s]WARNING:root:\n",
      "We do not support the following tickers ['SVOL'].\n",
      "They will be dropped from the optimization\n",
      "\n",
      " 28%|████████████▏                              | 27/95 [00:21<01:04,  1.06it/s]WARNING:root:\n",
      "We do not support the following tickers ['SVOL'].\n",
      "They will be dropped from the optimization\n",
      "\n",
      " 29%|████████████▋                              | 28/95 [00:22<00:58,  1.15it/s]WARNING:root:\n",
      "We do not support the following tickers ['SVOL'].\n",
      "They will be dropped from the optimization\n",
      "\n",
      " 31%|█████████████▏                             | 29/95 [00:22<00:53,  1.25it/s]WARNING:root:\n",
      "We do not support the following tickers ['SVOL'].\n",
      "They will be dropped from the optimization\n",
      "\n",
      " 32%|█████████████▌                             | 30/95 [00:23<00:47,  1.36it/s]WARNING:root:\n",
      "We do not support the following tickers ['SVOL'].\n",
      "They will be dropped from the optimization\n",
      "\n",
      " 33%|██████████████                             | 31/95 [00:24<00:46,  1.38it/s]WARNING:root:\n",
      "We do not support the following tickers ['SVOL'].\n",
      "They will be dropped from the optimization\n",
      "\n",
      " 34%|██████████████▍                            | 32/95 [00:24<00:44,  1.42it/s]WARNING:root:\n",
      "We do not support the following tickers ['SVOL'].\n",
      "They will be dropped from the optimization\n",
      "\n",
      " 35%|██████████████▉                            | 33/95 [00:25<00:45,  1.36it/s]WARNING:root:\n",
      "We do not support the following tickers ['SVOL'].\n",
      "They will be dropped from the optimization\n",
      "\n",
      " 36%|███████████████▍                           | 34/95 [00:26<00:46,  1.31it/s]WARNING:root:\n",
      "We do not support the following tickers ['SVOL'].\n",
      "They will be dropped from the optimization\n",
      "\n",
      " 37%|███████████████▊                           | 35/95 [00:27<00:48,  1.25it/s]WARNING:root:\n",
      "We do not support the following tickers ['SVOL'].\n",
      "They will be dropped from the optimization\n",
      "\n",
      " 38%|████████████████▎                          | 36/95 [00:28<00:46,  1.28it/s]WARNING:root:\n",
      "We do not support the following tickers ['SVOL'].\n",
      "They will be dropped from the optimization\n",
      "\n",
      " 39%|████████████████▋                          | 37/95 [00:28<00:45,  1.29it/s]WARNING:root:\n",
      "We do not support the following tickers ['SVOL'].\n",
      "They will be dropped from the optimization\n",
      "\n",
      " 40%|█████████████████▏                         | 38/95 [00:29<00:47,  1.21it/s]WARNING:root:\n",
      "We do not support the following tickers ['SVOL'].\n",
      "They will be dropped from the optimization\n",
      "\n",
      " 41%|█████████████████▋                         | 39/95 [00:30<00:45,  1.24it/s]WARNING:root:\n",
      "We do not support the following tickers ['SVOL'].\n",
      "They will be dropped from the optimization\n",
      "\n",
      " 42%|██████████████████                         | 40/95 [00:31<00:43,  1.26it/s]WARNING:root:\n",
      "We do not support the following tickers ['SVOL'].\n",
      "They will be dropped from the optimization\n",
      "\n",
      " 43%|██████████████████▌                        | 41/95 [00:32<00:44,  1.21it/s]WARNING:root:\n",
      "We do not support the following tickers ['SVOL'].\n",
      "They will be dropped from the optimization\n",
      "\n",
      " 44%|███████████████████                        | 42/95 [00:32<00:42,  1.25it/s]WARNING:root:\n",
      "We do not support the following tickers ['SVOL'].\n",
      "They will be dropped from the optimization\n",
      "\n",
      " 45%|███████████████████▍                       | 43/95 [00:33<00:41,  1.25it/s]WARNING:root:\n",
      "We do not support the following tickers ['SVOL'].\n",
      "They will be dropped from the optimization\n",
      "\n"
     ]
    },
    {
     "name": "stderr",
     "output_type": "stream",
     "text": [
      " 46%|███████████████████▉                       | 44/95 [00:34<00:41,  1.24it/s]WARNING:root:\n",
      "We do not support the following tickers ['SVOL'].\n",
      "They will be dropped from the optimization\n",
      "\n",
      " 47%|████████████████████▎                      | 45/95 [00:35<00:38,  1.28it/s]WARNING:root:\n",
      "We do not support the following tickers ['SVOL'].\n",
      "They will be dropped from the optimization\n",
      "\n",
      " 48%|████████████████████▊                      | 46/95 [00:35<00:35,  1.37it/s]WARNING:root:\n",
      "We do not support the following tickers ['SVOL'].\n",
      "They will be dropped from the optimization\n",
      "\n",
      " 49%|█████████████████████▎                     | 47/95 [00:36<00:33,  1.41it/s]WARNING:root:\n",
      "We do not support the following tickers ['SVOL'].\n",
      "They will be dropped from the optimization\n",
      "\n",
      " 51%|█████████████████████▋                     | 48/95 [00:37<00:32,  1.44it/s]WARNING:root:\n",
      "We do not support the following tickers ['SVOL'].\n",
      "They will be dropped from the optimization\n",
      "\n",
      " 52%|██████████████████████▏                    | 49/95 [00:37<00:32,  1.43it/s]WARNING:root:\n",
      "We do not support the following tickers ['SVOL'].\n",
      "They will be dropped from the optimization\n",
      "\n",
      " 53%|██████████████████████▋                    | 50/95 [00:38<00:31,  1.45it/s]WARNING:root:\n",
      "We do not support the following tickers ['SVOL'].\n",
      "They will be dropped from the optimization\n",
      "\n",
      " 54%|███████████████████████                    | 51/95 [00:39<00:29,  1.48it/s]WARNING:root:\n",
      "We do not support the following tickers ['SVOL'].\n",
      "They will be dropped from the optimization\n",
      "\n",
      " 55%|███████████████████████▌                   | 52/95 [00:40<00:30,  1.43it/s]WARNING:root:\n",
      "We do not support the following tickers ['SVOL'].\n",
      "They will be dropped from the optimization\n",
      "\n",
      " 56%|███████████████████████▉                   | 53/95 [00:40<00:28,  1.48it/s]WARNING:root:\n",
      "We do not support the following tickers ['SVOL'].\n",
      "They will be dropped from the optimization\n",
      "\n",
      " 57%|████████████████████████▍                  | 54/95 [00:41<00:28,  1.46it/s]WARNING:root:\n",
      "We do not support the following tickers ['SVOL'].\n",
      "They will be dropped from the optimization\n",
      "\n",
      " 58%|████████████████████████▉                  | 55/95 [00:42<00:27,  1.46it/s]WARNING:root:\n",
      "We do not support the following tickers ['SVOL'].\n",
      "They will be dropped from the optimization\n",
      "\n",
      " 59%|█████████████████████████▎                 | 56/95 [00:42<00:27,  1.42it/s]WARNING:root:\n",
      "We do not support the following tickers ['SVOL'].\n",
      "They will be dropped from the optimization\n",
      "\n",
      " 60%|█████████████████████████▊                 | 57/95 [00:44<00:32,  1.16it/s]WARNING:root:\n",
      "We do not support the following tickers ['SVOL'].\n",
      "They will be dropped from the optimization\n",
      "\n",
      " 61%|██████████████████████████▎                | 58/95 [00:44<00:30,  1.20it/s]WARNING:root:\n",
      "We do not support the following tickers ['SVOL'].\n",
      "They will be dropped from the optimization\n",
      "\n",
      " 62%|██████████████████████████▋                | 59/95 [00:45<00:28,  1.27it/s]WARNING:root:\n",
      "We do not support the following tickers ['SVOL'].\n",
      "They will be dropped from the optimization\n",
      "\n",
      " 63%|███████████████████████████▏               | 60/95 [00:46<00:28,  1.22it/s]WARNING:root:\n",
      "We do not support the following tickers ['SVOL'].\n",
      "They will be dropped from the optimization\n",
      "\n",
      " 64%|███████████████████████████▌               | 61/95 [00:46<00:25,  1.31it/s]WARNING:root:\n",
      "We do not support the following tickers ['SVOL'].\n",
      "They will be dropped from the optimization\n",
      "\n",
      " 65%|████████████████████████████               | 62/95 [00:47<00:23,  1.39it/s]WARNING:root:\n",
      "We do not support the following tickers ['SVOL'].\n",
      "They will be dropped from the optimization\n",
      "\n",
      " 66%|████████████████████████████▌              | 63/95 [00:48<00:22,  1.41it/s]WARNING:root:\n",
      "We do not support the following tickers ['SVOL'].\n",
      "They will be dropped from the optimization\n",
      "\n",
      " 67%|████████████████████████████▉              | 64/95 [00:48<00:21,  1.46it/s]WARNING:root:\n",
      "We do not support the following tickers ['SVOL'].\n",
      "They will be dropped from the optimization\n",
      "\n",
      " 68%|█████████████████████████████▍             | 65/95 [00:49<00:20,  1.47it/s]WARNING:root:\n",
      "We do not support the following tickers ['SVOL'].\n",
      "They will be dropped from the optimization\n",
      "\n",
      " 69%|█████████████████████████████▊             | 66/95 [00:50<00:19,  1.50it/s]WARNING:root:\n",
      "We do not support the following tickers ['SVOL'].\n",
      "They will be dropped from the optimization\n",
      "\n",
      " 71%|██████████████████████████████▎            | 67/95 [00:50<00:18,  1.48it/s]WARNING:root:\n",
      "We do not support the following tickers ['SVOL'].\n",
      "They will be dropped from the optimization\n",
      "\n",
      " 72%|██████████████████████████████▊            | 68/95 [00:51<00:17,  1.52it/s]WARNING:root:\n",
      "We do not support the following tickers ['SVOL'].\n",
      "They will be dropped from the optimization\n",
      "\n",
      " 73%|███████████████████████████████▏           | 69/95 [00:52<00:17,  1.53it/s]WARNING:root:\n",
      "We do not support the following tickers ['SVOL'].\n",
      "They will be dropped from the optimization\n",
      "\n",
      " 74%|███████████████████████████████▋           | 70/95 [00:52<00:16,  1.52it/s]WARNING:root:\n",
      "We do not support the following tickers ['SVOL'].\n",
      "They will be dropped from the optimization\n",
      "\n",
      " 75%|████████████████████████████████▏          | 71/95 [00:53<00:15,  1.54it/s]WARNING:root:\n",
      "We do not support the following tickers ['SVOL'].\n",
      "They will be dropped from the optimization\n",
      "\n",
      " 76%|████████████████████████████████▌          | 72/95 [00:54<00:14,  1.55it/s]WARNING:root:\n",
      "We do not support the following tickers ['SVOL'].\n",
      "They will be dropped from the optimization\n",
      "\n",
      " 77%|█████████████████████████████████          | 73/95 [00:54<00:14,  1.56it/s]WARNING:root:\n",
      "We do not support the following tickers ['SVOL'].\n",
      "They will be dropped from the optimization\n",
      "\n",
      " 78%|█████████████████████████████████▍         | 74/95 [00:55<00:13,  1.60it/s]WARNING:root:\n",
      "We do not support the following tickers ['SVOL'].\n",
      "They will be dropped from the optimization\n",
      "\n",
      " 79%|█████████████████████████████████▉         | 75/95 [00:55<00:12,  1.58it/s]WARNING:root:\n",
      "We do not support the following tickers ['SVOL'].\n",
      "They will be dropped from the optimization\n",
      "\n",
      " 80%|██████████████████████████████████▍        | 76/95 [00:56<00:13,  1.46it/s]WARNING:root:\n",
      "The following tickers have less than 80% of price observations: ['SVOL']\n",
      "They will be dropped\n",
      "WARNING:root:\n",
      "We do not support the following tickers ['SVOL'].\n",
      "They will be dropped from the optimization\n",
      "\n",
      " 81%|██████████████████████████████████▊        | 77/95 [00:57<00:12,  1.47it/s]WARNING:root:\n",
      "The following tickers have less than 80% of price observations: ['SVOL']\n",
      "They will be dropped\n",
      "WARNING:root:\n",
      "We do not support the following tickers ['SVOL'].\n",
      "They will be dropped from the optimization\n",
      "\n",
      " 82%|███████████████████████████████████▎       | 78/95 [00:58<00:11,  1.53it/s]WARNING:root:\n",
      "The following tickers have less than 80% of price observations: ['SVOL']\n",
      "They will be dropped\n",
      "WARNING:root:\n",
      "We do not support the following tickers ['SVOL'].\n",
      "They will be dropped from the optimization\n",
      "\n",
      " 83%|███████████████████████████████████▊       | 79/95 [00:58<00:10,  1.54it/s]WARNING:root:\n",
      "The following tickers have less than 80% of price observations: ['SVOL']\n",
      "They will be dropped\n",
      "WARNING:root:\n",
      "We do not support the following tickers ['SVOL'].\n",
      "They will be dropped from the optimization\n",
      "\n",
      " 84%|████████████████████████████████████▏      | 80/95 [00:59<00:09,  1.57it/s]WARNING:root:\n",
      "The following tickers have less than 80% of price observations: ['SVOL']\n",
      "They will be dropped\n",
      "WARNING:root:\n",
      "We do not support the following tickers ['SVOL'].\n",
      "They will be dropped from the optimization\n",
      "\n",
      " 85%|████████████████████████████████████▋      | 81/95 [00:59<00:08,  1.56it/s]WARNING:root:\n",
      "The following tickers have less than 80% of price observations: ['SVOL']\n",
      "They will be dropped\n",
      "WARNING:root:\n",
      "We do not support the following tickers ['SVOL'].\n",
      "They will be dropped from the optimization\n",
      "\n",
      " 86%|█████████████████████████████████████      | 82/95 [01:00<00:08,  1.57it/s]WARNING:root:\n",
      "The following tickers have less than 80% of price observations: ['SVOL']\n",
      "They will be dropped\n",
      "WARNING:root:\n",
      "We do not support the following tickers ['SVOL'].\n",
      "They will be dropped from the optimization\n",
      "\n",
      " 87%|█████████████████████████████████████▌     | 83/95 [01:01<00:07,  1.58it/s]WARNING:root:\n",
      "The following tickers have less than 80% of price observations: ['SVOL']\n",
      "They will be dropped\n"
     ]
    },
    {
     "name": "stderr",
     "output_type": "stream",
     "text": [
      "WARNING:root:\n",
      "We do not support the following tickers ['SVOL'].\n",
      "They will be dropped from the optimization\n",
      "\n",
      " 88%|██████████████████████████████████████     | 84/95 [01:01<00:06,  1.58it/s]WARNING:root:\n",
      "The following tickers have less than 80% of price observations: ['SVOL']\n",
      "They will be dropped\n",
      "WARNING:root:\n",
      "We do not support the following tickers ['SVOL'].\n",
      "They will be dropped from the optimization\n",
      "\n",
      "100%|███████████████████████████████████████████| 95/95 [01:09<00:00,  1.37it/s]\n"
     ]
    }
   ],
   "source": [
    "weights = pd.DataFrame()\n",
    "for d in tqdm(rebalance_dates):\n",
    "    optimizer = GainyOptimizer(ticker_list, d, benchmark='SPY', lookback=9)\n",
    "    opt_res = optimizer.OptimizePortfolioRiskBudget(params=params)\n",
    "    weights = pd.concat([weights, pd.DataFrame(opt_res, index=[d])])\n",
    "    "
   ]
  },
  {
   "cell_type": "code",
   "execution_count": 49,
   "id": "2b6972dc",
   "metadata": {},
   "outputs": [
    {
     "data": {
      "text/html": [
       "<div>\n",
       "<style scoped>\n",
       "    .dataframe tbody tr th:only-of-type {\n",
       "        vertical-align: middle;\n",
       "    }\n",
       "\n",
       "    .dataframe tbody tr th {\n",
       "        vertical-align: top;\n",
       "    }\n",
       "\n",
       "    .dataframe thead th {\n",
       "        text-align: right;\n",
       "    }\n",
       "</style>\n",
       "<table border=\"1\" class=\"dataframe\">\n",
       "  <thead>\n",
       "    <tr style=\"text-align: right;\">\n",
       "      <th></th>\n",
       "      <th>SGOL</th>\n",
       "      <th>SJB</th>\n",
       "      <th>EFZ</th>\n",
       "      <th>SH</th>\n",
       "      <th>SVOL</th>\n",
       "    </tr>\n",
       "  </thead>\n",
       "  <tbody>\n",
       "    <tr>\n",
       "      <th>2015-01-30</th>\n",
       "      <td>0.300000</td>\n",
       "      <td>0.290724</td>\n",
       "      <td>0.215487</td>\n",
       "      <td>0.193788</td>\n",
       "      <td>NaN</td>\n",
       "    </tr>\n",
       "    <tr>\n",
       "      <th>2015-02-27</th>\n",
       "      <td>0.300000</td>\n",
       "      <td>0.292161</td>\n",
       "      <td>0.211953</td>\n",
       "      <td>0.195886</td>\n",
       "      <td>NaN</td>\n",
       "    </tr>\n",
       "    <tr>\n",
       "      <th>2015-03-31</th>\n",
       "      <td>0.300000</td>\n",
       "      <td>0.293084</td>\n",
       "      <td>0.209752</td>\n",
       "      <td>0.197163</td>\n",
       "      <td>NaN</td>\n",
       "    </tr>\n",
       "    <tr>\n",
       "      <th>2015-04-30</th>\n",
       "      <td>0.300000</td>\n",
       "      <td>0.291778</td>\n",
       "      <td>0.211513</td>\n",
       "      <td>0.196709</td>\n",
       "      <td>NaN</td>\n",
       "    </tr>\n",
       "    <tr>\n",
       "      <th>2015-05-29</th>\n",
       "      <td>0.300000</td>\n",
       "      <td>0.294376</td>\n",
       "      <td>0.207813</td>\n",
       "      <td>0.197811</td>\n",
       "      <td>NaN</td>\n",
       "    </tr>\n",
       "    <tr>\n",
       "      <th>...</th>\n",
       "      <td>...</td>\n",
       "      <td>...</td>\n",
       "      <td>...</td>\n",
       "      <td>...</td>\n",
       "      <td>...</td>\n",
       "    </tr>\n",
       "    <tr>\n",
       "      <th>2022-07-29</th>\n",
       "      <td>0.229050</td>\n",
       "      <td>0.196087</td>\n",
       "      <td>0.150909</td>\n",
       "      <td>0.123955</td>\n",
       "      <td>0.3</td>\n",
       "    </tr>\n",
       "    <tr>\n",
       "      <th>2022-08-31</th>\n",
       "      <td>0.233767</td>\n",
       "      <td>0.193929</td>\n",
       "      <td>0.149803</td>\n",
       "      <td>0.122501</td>\n",
       "      <td>0.3</td>\n",
       "    </tr>\n",
       "    <tr>\n",
       "      <th>2022-09-30</th>\n",
       "      <td>0.238674</td>\n",
       "      <td>0.191367</td>\n",
       "      <td>0.147987</td>\n",
       "      <td>0.121972</td>\n",
       "      <td>0.3</td>\n",
       "    </tr>\n",
       "    <tr>\n",
       "      <th>2022-10-31</th>\n",
       "      <td>0.245745</td>\n",
       "      <td>0.190246</td>\n",
       "      <td>0.143666</td>\n",
       "      <td>0.120344</td>\n",
       "      <td>0.3</td>\n",
       "    </tr>\n",
       "    <tr>\n",
       "      <th>2022-11-30</th>\n",
       "      <td>0.255326</td>\n",
       "      <td>0.186457</td>\n",
       "      <td>0.139618</td>\n",
       "      <td>0.118598</td>\n",
       "      <td>0.3</td>\n",
       "    </tr>\n",
       "  </tbody>\n",
       "</table>\n",
       "<p>95 rows × 5 columns</p>\n",
       "</div>"
      ],
      "text/plain": [
       "                SGOL       SJB       EFZ        SH  SVOL\n",
       "2015-01-30  0.300000  0.290724  0.215487  0.193788   NaN\n",
       "2015-02-27  0.300000  0.292161  0.211953  0.195886   NaN\n",
       "2015-03-31  0.300000  0.293084  0.209752  0.197163   NaN\n",
       "2015-04-30  0.300000  0.291778  0.211513  0.196709   NaN\n",
       "2015-05-29  0.300000  0.294376  0.207813  0.197811   NaN\n",
       "...              ...       ...       ...       ...   ...\n",
       "2022-07-29  0.229050  0.196087  0.150909  0.123955   0.3\n",
       "2022-08-31  0.233767  0.193929  0.149803  0.122501   0.3\n",
       "2022-09-30  0.238674  0.191367  0.147987  0.121972   0.3\n",
       "2022-10-31  0.245745  0.190246  0.143666  0.120344   0.3\n",
       "2022-11-30  0.255326  0.186457  0.139618  0.118598   0.3\n",
       "\n",
       "[95 rows x 5 columns]"
      ]
     },
     "execution_count": 49,
     "metadata": {},
     "output_type": "execute_result"
    }
   ],
   "source": [
    "weights"
   ]
  },
  {
   "cell_type": "code",
   "execution_count": 50,
   "id": "2ea559bf",
   "metadata": {},
   "outputs": [
    {
     "data": {
      "text/plain": [
       "<AxesSubplot:xlabel='date'>"
      ]
     },
     "execution_count": 50,
     "metadata": {},
     "output_type": "execute_result"
    },
    {
     "data": {
      "image/png": "[encoded data removed]",
      "text/plain": [
       "<Figure size 432x288 with 1 Axes>"
      ]
     },
     "metadata": {
      "needs_background": "light"
     },
     "output_type": "display_data"
    }
   ],
   "source": [
    "rets = prices.pct_change()[ticker_list]\n",
    "((1+rets).cumprod() - 1).plot()"
   ]
  },
  {
   "cell_type": "code",
   "execution_count": 51,
   "id": "2140207f",
   "metadata": {},
   "outputs": [],
   "source": [
    "w = weights\n",
    "w.index = pd.to_datetime(w.index)"
   ]
  },
  {
   "cell_type": "code",
   "execution_count": 52,
   "id": "ce1c75a0",
   "metadata": {},
   "outputs": [
    {
     "name": "stderr",
     "output_type": "stream",
     "text": [
      "WARNING:root:Returns have missing days. Filled with zeros\n"
     ]
    }
   ],
   "source": [
    "pr = ReturnPortfolio(rets, w)"
   ]
  },
  {
   "cell_type": "code",
   "execution_count": 53,
   "id": "a30c977f",
   "metadata": {},
   "outputs": [
    {
     "data": {
      "text/plain": [
       "<AxesSubplot:>"
      ]
     },
     "execution_count": 53,
     "metadata": {},
     "output_type": "execute_result"
    },
    {
     "data": {
      "image/png": "[encoded data removed]",
      "text/plain": [
       "<Figure size 432x288 with 1 Axes>"
      ]
     },
     "metadata": {
      "needs_background": "light"
     },
     "output_type": "display_data"
    }
   ],
   "source": [
    "((1+pr).cumprod()-1).plot()"
   ]
  },
  {
   "cell_type": "code",
   "execution_count": 54,
   "id": "27b5edc5",
   "metadata": {},
   "outputs": [
    {
     "data": {
      "text/plain": [
       "<AxesSubplot:>"
      ]
     },
     "execution_count": 54,
     "metadata": {},
     "output_type": "execute_result"
    },
    {
     "data": {
      "image/png": "[encoded data removed]",
      "text/plain": [
       "<Figure size 432x288 with 1 Axes>"
      ]
     },
     "metadata": {
      "needs_background": "light"
     },
     "output_type": "display_data"
    }
   ],
   "source": [
    "test = pd.merge(pr, rets['SH'], left_index=True, right_index=True)\n",
    "((1+test.loc[\"2022\"]).cumprod()-1).plot()"
   ]
  },
  {
   "cell_type": "code",
   "execution_count": 55,
   "id": "403bbaf4",
   "metadata": {},
   "outputs": [
    {
     "data": {
      "text/plain": [
       "Portfolio   -0.295605\n",
       "SH          -0.571307\n",
       "dtype: float64"
      ]
     },
     "execution_count": 55,
     "metadata": {},
     "output_type": "execute_result"
    }
   ],
   "source": [
    "(test.mean()*250 )/ (test.std()*(250**0.5))"
   ]
  },
  {
   "cell_type": "code",
   "execution_count": 56,
   "id": "697771f0",
   "metadata": {},
   "outputs": [
    {
     "data": {
      "text/plain": [
       "Portfolio   -0.028304\n",
       "SH          -0.107292\n",
       "dtype: float64"
      ]
     },
     "execution_count": 56,
     "metadata": {},
     "output_type": "execute_result"
    }
   ],
   "source": [
    "test.mean()*250 "
   ]
  },
  {
   "cell_type": "code",
   "execution_count": 57,
   "id": "dc1f48e7",
   "metadata": {},
   "outputs": [
    {
     "data": {
      "text/plain": [
       "Portfolio    0.09575\n",
       "SH           0.18780\n",
       "dtype: float64"
      ]
     },
     "execution_count": 57,
     "metadata": {},
     "output_type": "execute_result"
    }
   ],
   "source": [
    "test.std()*(250**0.5)"
   ]
  },
  {
   "cell_type": "code",
   "execution_count": 58,
   "id": "cb778ee4",
   "metadata": {},
   "outputs": [
    {
     "data": {
      "text/html": [
       "<div>\n",
       "<style scoped>\n",
       "    .dataframe tbody tr th:only-of-type {\n",
       "        vertical-align: middle;\n",
       "    }\n",
       "\n",
       "    .dataframe tbody tr th {\n",
       "        vertical-align: top;\n",
       "    }\n",
       "\n",
       "    .dataframe thead th {\n",
       "        text-align: right;\n",
       "    }\n",
       "</style>\n",
       "<table border=\"1\" class=\"dataframe\">\n",
       "  <thead>\n",
       "    <tr style=\"text-align: right;\">\n",
       "      <th></th>\n",
       "      <th>Portfolio</th>\n",
       "      <th>SH</th>\n",
       "      <th>SPY</th>\n",
       "    </tr>\n",
       "  </thead>\n",
       "  <tbody>\n",
       "    <tr>\n",
       "      <th>2015-02-02</th>\n",
       "      <td>-0.008865</td>\n",
       "      <td>-0.011172</td>\n",
       "      <td>0.012384</td>\n",
       "    </tr>\n",
       "    <tr>\n",
       "      <th>2015-02-03</th>\n",
       "      <td>-0.010192</td>\n",
       "      <td>-0.014911</td>\n",
       "      <td>0.014461</td>\n",
       "    </tr>\n",
       "    <tr>\n",
       "      <th>2015-02-04</th>\n",
       "      <td>0.004428</td>\n",
       "      <td>0.004128</td>\n",
       "      <td>-0.003808</td>\n",
       "    </tr>\n",
       "    <tr>\n",
       "      <th>2015-02-05</th>\n",
       "      <td>-0.005863</td>\n",
       "      <td>-0.011420</td>\n",
       "      <td>0.010095</td>\n",
       "    </tr>\n",
       "    <tr>\n",
       "      <th>2015-02-06</th>\n",
       "      <td>-0.005358</td>\n",
       "      <td>0.003233</td>\n",
       "      <td>-0.002765</td>\n",
       "    </tr>\n",
       "    <tr>\n",
       "      <th>...</th>\n",
       "      <td>...</td>\n",
       "      <td>...</td>\n",
       "      <td>...</td>\n",
       "    </tr>\n",
       "    <tr>\n",
       "      <th>2022-12-14</th>\n",
       "      <td>0.003410</td>\n",
       "      <td>0.005871</td>\n",
       "      <td>-0.006394</td>\n",
       "    </tr>\n",
       "    <tr>\n",
       "      <th>2022-12-15</th>\n",
       "      <td>-0.000624</td>\n",
       "      <td>0.025940</td>\n",
       "      <td>-0.024462</td>\n",
       "    </tr>\n",
       "    <tr>\n",
       "      <th>2022-12-16</th>\n",
       "      <td>0.005773</td>\n",
       "      <td>0.012010</td>\n",
       "      <td>-0.016323</td>\n",
       "    </tr>\n",
       "    <tr>\n",
       "      <th>2022-12-19</th>\n",
       "      <td>0.003256</td>\n",
       "      <td>0.008745</td>\n",
       "      <td>-0.008480</td>\n",
       "    </tr>\n",
       "    <tr>\n",
       "      <th>2022-12-20</th>\n",
       "      <td>0.005101</td>\n",
       "      <td>-0.001858</td>\n",
       "      <td>0.001368</td>\n",
       "    </tr>\n",
       "  </tbody>\n",
       "</table>\n",
       "<p>1987 rows × 3 columns</p>\n",
       "</div>"
      ],
      "text/plain": [
       "            Portfolio        SH       SPY\n",
       "2015-02-02  -0.008865 -0.011172  0.012384\n",
       "2015-02-03  -0.010192 -0.014911  0.014461\n",
       "2015-02-04   0.004428  0.004128 -0.003808\n",
       "2015-02-05  -0.005863 -0.011420  0.010095\n",
       "2015-02-06  -0.005358  0.003233 -0.002765\n",
       "...               ...       ...       ...\n",
       "2022-12-14   0.003410  0.005871 -0.006394\n",
       "2022-12-15  -0.000624  0.025940 -0.024462\n",
       "2022-12-16   0.005773  0.012010 -0.016323\n",
       "2022-12-19   0.003256  0.008745 -0.008480\n",
       "2022-12-20   0.005101 -0.001858  0.001368\n",
       "\n",
       "[1987 rows x 3 columns]"
      ]
     },
     "execution_count": 58,
     "metadata": {},
     "output_type": "execute_result"
    }
   ],
   "source": [
    "bm = GetPrices('SPY',\"2015-01-01\", \"2022-12-20\").pct_change()\n",
    "test = test.merge(bm, left_index=True, right_index=True)\n",
    "test"
   ]
  },
  {
   "cell_type": "code",
   "execution_count": 65,
   "id": "5f48ec98",
   "metadata": {},
   "outputs": [
    {
     "data": {
      "text/plain": [
       "<AxesSubplot:>"
      ]
     },
     "execution_count": 65,
     "metadata": {},
     "output_type": "execute_result"
    },
    {
     "data": {
      "image/png": "[encoded data removed]",
      "text/plain": [
       "<Figure size 432x288 with 1 Axes>"
      ]
     },
     "metadata": {
      "needs_background": "light"
     },
     "output_type": "display_data"
    }
   ],
   "source": [
    "((1+test.loc[\"2020\"]).cumprod()-1).plot()"
   ]
  },
  {
   "cell_type": "code",
   "execution_count": 59,
   "id": "6a1da3ff",
   "metadata": {},
   "outputs": [
    {
     "data": {
      "text/html": [
       "<div>\n",
       "<style scoped>\n",
       "    .dataframe tbody tr th:only-of-type {\n",
       "        vertical-align: middle;\n",
       "    }\n",
       "\n",
       "    .dataframe tbody tr th {\n",
       "        vertical-align: top;\n",
       "    }\n",
       "\n",
       "    .dataframe thead th {\n",
       "        text-align: right;\n",
       "    }\n",
       "</style>\n",
       "<table border=\"1\" class=\"dataframe\">\n",
       "  <thead>\n",
       "    <tr style=\"text-align: right;\">\n",
       "      <th></th>\n",
       "      <th>Portfolio</th>\n",
       "      <th>SH</th>\n",
       "      <th>SPY</th>\n",
       "    </tr>\n",
       "  </thead>\n",
       "  <tbody>\n",
       "    <tr>\n",
       "      <th>Portfolio</th>\n",
       "      <td>1.000000</td>\n",
       "      <td>0.837537</td>\n",
       "      <td>-0.835769</td>\n",
       "    </tr>\n",
       "    <tr>\n",
       "      <th>SH</th>\n",
       "      <td>0.837537</td>\n",
       "      <td>1.000000</td>\n",
       "      <td>-0.998070</td>\n",
       "    </tr>\n",
       "    <tr>\n",
       "      <th>SPY</th>\n",
       "      <td>-0.835769</td>\n",
       "      <td>-0.998070</td>\n",
       "      <td>1.000000</td>\n",
       "    </tr>\n",
       "  </tbody>\n",
       "</table>\n",
       "</div>"
      ],
      "text/plain": [
       "           Portfolio        SH       SPY\n",
       "Portfolio   1.000000  0.837537 -0.835769\n",
       "SH          0.837537  1.000000 -0.998070\n",
       "SPY        -0.835769 -0.998070  1.000000"
      ]
     },
     "execution_count": 59,
     "metadata": {},
     "output_type": "execute_result"
    }
   ],
   "source": [
    "test.corr()"
   ]
  },
  {
   "cell_type": "code",
   "execution_count": 60,
   "id": "435ec0af",
   "metadata": {},
   "outputs": [
    {
     "data": {
      "text/plain": [
       "<AxesSubplot:>"
      ]
     },
     "execution_count": 60,
     "metadata": {},
     "output_type": "execute_result"
    },
    {
     "data": {
      "image/png": "[encoded data removed]",
      "text/plain": [
       "<Figure size 432x288 with 1 Axes>"
      ]
     },
     "metadata": {
      "needs_background": "light"
     },
     "output_type": "display_data"
    }
   ],
   "source": [
    "w_1 = [0.7,0.3]\n",
    "tt = test[['Portfolio','SPY']] @ w_1\n",
    "((1+tt).cumprod()-1).plot()"
   ]
  },
  {
   "cell_type": "code",
   "execution_count": 61,
   "id": "8b802b6c",
   "metadata": {},
   "outputs": [
    {
     "data": {
      "text/html": [
       "<div>\n",
       "<style scoped>\n",
       "    .dataframe tbody tr th:only-of-type {\n",
       "        vertical-align: middle;\n",
       "    }\n",
       "\n",
       "    .dataframe tbody tr th {\n",
       "        vertical-align: top;\n",
       "    }\n",
       "\n",
       "    .dataframe thead th {\n",
       "        text-align: right;\n",
       "    }\n",
       "</style>\n",
       "<table border=\"1\" class=\"dataframe\">\n",
       "  <thead>\n",
       "    <tr style=\"text-align: right;\">\n",
       "      <th></th>\n",
       "      <th>Portfolio</th>\n",
       "      <th>SH</th>\n",
       "      <th>SPY</th>\n",
       "    </tr>\n",
       "  </thead>\n",
       "  <tbody>\n",
       "    <tr>\n",
       "      <th>2015-02-02</th>\n",
       "      <td>-0.008865</td>\n",
       "      <td>-0.011172</td>\n",
       "      <td>0.012384</td>\n",
       "    </tr>\n",
       "    <tr>\n",
       "      <th>2015-02-03</th>\n",
       "      <td>-0.010192</td>\n",
       "      <td>-0.014911</td>\n",
       "      <td>0.014461</td>\n",
       "    </tr>\n",
       "    <tr>\n",
       "      <th>2015-02-04</th>\n",
       "      <td>0.004428</td>\n",
       "      <td>0.004128</td>\n",
       "      <td>-0.003808</td>\n",
       "    </tr>\n",
       "    <tr>\n",
       "      <th>2015-02-05</th>\n",
       "      <td>-0.005863</td>\n",
       "      <td>-0.011420</td>\n",
       "      <td>0.010095</td>\n",
       "    </tr>\n",
       "    <tr>\n",
       "      <th>2015-02-06</th>\n",
       "      <td>-0.005358</td>\n",
       "      <td>0.003233</td>\n",
       "      <td>-0.002765</td>\n",
       "    </tr>\n",
       "    <tr>\n",
       "      <th>...</th>\n",
       "      <td>...</td>\n",
       "      <td>...</td>\n",
       "      <td>...</td>\n",
       "    </tr>\n",
       "    <tr>\n",
       "      <th>2022-12-14</th>\n",
       "      <td>0.003410</td>\n",
       "      <td>0.005871</td>\n",
       "      <td>-0.006394</td>\n",
       "    </tr>\n",
       "    <tr>\n",
       "      <th>2022-12-15</th>\n",
       "      <td>-0.000624</td>\n",
       "      <td>0.025940</td>\n",
       "      <td>-0.024462</td>\n",
       "    </tr>\n",
       "    <tr>\n",
       "      <th>2022-12-16</th>\n",
       "      <td>0.005773</td>\n",
       "      <td>0.012010</td>\n",
       "      <td>-0.016323</td>\n",
       "    </tr>\n",
       "    <tr>\n",
       "      <th>2022-12-19</th>\n",
       "      <td>0.003256</td>\n",
       "      <td>0.008745</td>\n",
       "      <td>-0.008480</td>\n",
       "    </tr>\n",
       "    <tr>\n",
       "      <th>2022-12-20</th>\n",
       "      <td>0.005101</td>\n",
       "      <td>-0.001858</td>\n",
       "      <td>0.001368</td>\n",
       "    </tr>\n",
       "  </tbody>\n",
       "</table>\n",
       "<p>1987 rows × 3 columns</p>\n",
       "</div>"
      ],
      "text/plain": [
       "            Portfolio        SH       SPY\n",
       "2015-02-02  -0.008865 -0.011172  0.012384\n",
       "2015-02-03  -0.010192 -0.014911  0.014461\n",
       "2015-02-04   0.004428  0.004128 -0.003808\n",
       "2015-02-05  -0.005863 -0.011420  0.010095\n",
       "2015-02-06  -0.005358  0.003233 -0.002765\n",
       "...               ...       ...       ...\n",
       "2022-12-14   0.003410  0.005871 -0.006394\n",
       "2022-12-15  -0.000624  0.025940 -0.024462\n",
       "2022-12-16   0.005773  0.012010 -0.016323\n",
       "2022-12-19   0.003256  0.008745 -0.008480\n",
       "2022-12-20   0.005101 -0.001858  0.001368\n",
       "\n",
       "[1987 rows x 3 columns]"
      ]
     },
     "execution_count": 61,
     "metadata": {},
     "output_type": "execute_result"
    }
   ],
   "source": [
    "test"
   ]
  },
  {
   "cell_type": "code",
   "execution_count": 62,
   "id": "e54d8c42",
   "metadata": {},
   "outputs": [
    {
     "data": {
      "text/plain": [
       "<AxesSubplot:>"
      ]
     },
     "execution_count": 62,
     "metadata": {},
     "output_type": "execute_result"
    },
    {
     "data": {
      "image/png": "[encoded data removed]",
      "text/plain": [
       "<Figure size 432x288 with 1 Axes>"
      ]
     },
     "metadata": {
      "needs_background": "light"
     },
     "output_type": "display_data"
    }
   ],
   "source": [
    "((1+test[['Portfolio', 'SPY']].loc[\"2022\"]).cumprod()-1).plot()"
   ]
  }
 ],
 "metadata": {
  "kernelspec": {
   "display_name": "Python 3 (ipykernel)",
   "language": "python",
   "name": "python3"
  },
  "language_info": {
   "codemirror_mode": {
    "name": "ipython",
    "version": 3
   },
   "file_extension": ".py",
   "mimetype": "text/x-python",
   "name": "python",
   "nbconvert_exporter": "python",
   "pygments_lexer": "ipython3",
   "version": "3.10.3"
  }
 },
 "nbformat": 4,
 "nbformat_minor": 5
}
