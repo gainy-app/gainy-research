{
 "cells": [
  {
   "cell_type": "code",
   "execution_count": 1,
   "id": "38258458",
   "metadata": {},
   "outputs": [],
   "source": [
    "import pandas as pd\n",
    "import numpy as np\n",
    "from utils.connect import GetQuery\n",
    "from tqdm import tqdm"
   ]
  },
  {
   "cell_type": "code",
   "execution_count": 2,
   "id": "f93a252c",
   "metadata": {},
   "outputs": [
    {
     "data": {
      "text/html": [
       "<div>\n",
       "<style scoped>\n",
       "    .dataframe tbody tr th:only-of-type {\n",
       "        vertical-align: middle;\n",
       "    }\n",
       "\n",
       "    .dataframe tbody tr th {\n",
       "        vertical-align: top;\n",
       "    }\n",
       "\n",
       "    .dataframe thead th {\n",
       "        text-align: right;\n",
       "    }\n",
       "</style>\n",
       "<table border=\"1\" class=\"dataframe\">\n",
       "  <thead>\n",
       "    <tr style=\"text-align: right;\">\n",
       "      <th></th>\n",
       "      <th>Unnamed: 0</th>\n",
       "      <th>symbol</th>\n",
       "      <th>type</th>\n",
       "    </tr>\n",
       "  </thead>\n",
       "  <tbody>\n",
       "    <tr>\n",
       "      <th>0</th>\n",
       "      <td>0</td>\n",
       "      <td>QSR</td>\n",
       "      <td>common stock</td>\n",
       "    </tr>\n",
       "    <tr>\n",
       "      <th>1</th>\n",
       "      <td>1</td>\n",
       "      <td>GHC</td>\n",
       "      <td>common stock</td>\n",
       "    </tr>\n",
       "    <tr>\n",
       "      <th>2</th>\n",
       "      <td>2</td>\n",
       "      <td>MARA</td>\n",
       "      <td>common stock</td>\n",
       "    </tr>\n",
       "    <tr>\n",
       "      <th>3</th>\n",
       "      <td>3</td>\n",
       "      <td>GH</td>\n",
       "      <td>common stock</td>\n",
       "    </tr>\n",
       "    <tr>\n",
       "      <th>4</th>\n",
       "      <td>4</td>\n",
       "      <td>KW</td>\n",
       "      <td>common stock</td>\n",
       "    </tr>\n",
       "    <tr>\n",
       "      <th>...</th>\n",
       "      <td>...</td>\n",
       "      <td>...</td>\n",
       "      <td>...</td>\n",
       "    </tr>\n",
       "    <tr>\n",
       "      <th>6002</th>\n",
       "      <td>6002</td>\n",
       "      <td>CRO.CC</td>\n",
       "      <td>crypto</td>\n",
       "    </tr>\n",
       "    <tr>\n",
       "      <th>6003</th>\n",
       "      <td>6003</td>\n",
       "      <td>CRV.CC</td>\n",
       "      <td>crypto</td>\n",
       "    </tr>\n",
       "    <tr>\n",
       "      <th>6004</th>\n",
       "      <td>6004</td>\n",
       "      <td>EGLD.CC</td>\n",
       "      <td>crypto</td>\n",
       "    </tr>\n",
       "    <tr>\n",
       "      <th>6005</th>\n",
       "      <td>6005</td>\n",
       "      <td>EOS.CC</td>\n",
       "      <td>crypto</td>\n",
       "    </tr>\n",
       "    <tr>\n",
       "      <th>6006</th>\n",
       "      <td>6006</td>\n",
       "      <td>GUSD.CC</td>\n",
       "      <td>crypto</td>\n",
       "    </tr>\n",
       "  </tbody>\n",
       "</table>\n",
       "<p>6007 rows × 3 columns</p>\n",
       "</div>"
      ],
      "text/plain": [
       "      Unnamed: 0   symbol          type\n",
       "0              0      QSR  common stock\n",
       "1              1      GHC  common stock\n",
       "2              2     MARA  common stock\n",
       "3              3       GH  common stock\n",
       "4              4       KW  common stock\n",
       "...          ...      ...           ...\n",
       "6002        6002   CRO.CC        crypto\n",
       "6003        6003   CRV.CC        crypto\n",
       "6004        6004  EGLD.CC        crypto\n",
       "6005        6005   EOS.CC        crypto\n",
       "6006        6006  GUSD.CC        crypto\n",
       "\n",
       "[6007 rows x 3 columns]"
      ]
     },
     "execution_count": 2,
     "metadata": {},
     "output_type": "execute_result"
    }
   ],
   "source": [
    "# Get filtered tickers\n",
    "filtered = pd.read_csv(\"./list_ranked.csv\")\n",
    "filtered"
   ]
  },
  {
   "cell_type": "code",
   "execution_count": 3,
   "id": "300d6e98",
   "metadata": {},
   "outputs": [
    {
     "data": {
      "text/html": [
       "<div>\n",
       "<style scoped>\n",
       "    .dataframe tbody tr th:only-of-type {\n",
       "        vertical-align: middle;\n",
       "    }\n",
       "\n",
       "    .dataframe tbody tr th {\n",
       "        vertical-align: top;\n",
       "    }\n",
       "\n",
       "    .dataframe thead th {\n",
       "        text-align: right;\n",
       "    }\n",
       "</style>\n",
       "<table border=\"1\" class=\"dataframe\">\n",
       "  <thead>\n",
       "    <tr style=\"text-align: right;\">\n",
       "      <th></th>\n",
       "      <th>profile_id</th>\n",
       "      <th>risk_score</th>\n",
       "    </tr>\n",
       "  </thead>\n",
       "  <tbody>\n",
       "    <tr>\n",
       "      <th>0</th>\n",
       "      <td>253</td>\n",
       "      <td>1.0</td>\n",
       "    </tr>\n",
       "    <tr>\n",
       "      <th>1</th>\n",
       "      <td>21225</td>\n",
       "      <td>2.0</td>\n",
       "    </tr>\n",
       "    <tr>\n",
       "      <th>2</th>\n",
       "      <td>1414</td>\n",
       "      <td>2.0</td>\n",
       "    </tr>\n",
       "    <tr>\n",
       "      <th>3</th>\n",
       "      <td>20685</td>\n",
       "      <td>2.0</td>\n",
       "    </tr>\n",
       "    <tr>\n",
       "      <th>4</th>\n",
       "      <td>1457</td>\n",
       "      <td>2.0</td>\n",
       "    </tr>\n",
       "    <tr>\n",
       "      <th>...</th>\n",
       "      <td>...</td>\n",
       "      <td>...</td>\n",
       "    </tr>\n",
       "    <tr>\n",
       "      <th>13333</th>\n",
       "      <td>21757</td>\n",
       "      <td>2.0</td>\n",
       "    </tr>\n",
       "    <tr>\n",
       "      <th>13334</th>\n",
       "      <td>21729</td>\n",
       "      <td>2.0</td>\n",
       "    </tr>\n",
       "    <tr>\n",
       "      <th>13335</th>\n",
       "      <td>21730</td>\n",
       "      <td>3.0</td>\n",
       "    </tr>\n",
       "    <tr>\n",
       "      <th>13336</th>\n",
       "      <td>21731</td>\n",
       "      <td>2.0</td>\n",
       "    </tr>\n",
       "    <tr>\n",
       "      <th>13337</th>\n",
       "      <td>21737</td>\n",
       "      <td>2.0</td>\n",
       "    </tr>\n",
       "  </tbody>\n",
       "</table>\n",
       "<p>13338 rows × 2 columns</p>\n",
       "</div>"
      ],
      "text/plain": [
       "       profile_id  risk_score\n",
       "0             253         1.0\n",
       "1           21225         2.0\n",
       "2            1414         2.0\n",
       "3           20685         2.0\n",
       "4            1457         2.0\n",
       "...           ...         ...\n",
       "13333       21757         2.0\n",
       "13334       21729         2.0\n",
       "13335       21730         3.0\n",
       "13336       21731         2.0\n",
       "13337       21737         2.0\n",
       "\n",
       "[13338 rows x 2 columns]"
      ]
     },
     "execution_count": 3,
     "metadata": {},
     "output_type": "execute_result"
    }
   ],
   "source": [
    "GetQuery(f\"\"\"\n",
    "SELECT profile_id, risk_score\n",
    "FROM profile_scoring_settings\n",
    "\"\"\")"
   ]
  },
  {
   "cell_type": "code",
   "execution_count": 4,
   "id": "2189770c",
   "metadata": {},
   "outputs": [],
   "source": [
    "# Get all users\n",
    "df = GetQuery(f\"\"\"\n",
    "SELECT profile_id, symbol, match_score, risk_similarity, interest_similarity, category_similarity\n",
    "FROM gainy_analytics.profile_ticker_match_score\n",
    "WHERE updated_at > now() - interval '1 week'\n",
    "AND fits_risk IS NOT null\n",
    "AND symbol IN {tuple(filtered.symbol)}\n",
    "AND profile_id IN (253,20685, 21730 )\n",
    "\"\"\")"
   ]
  },
  {
   "cell_type": "code",
   "execution_count": 5,
   "id": "6da89db1",
   "metadata": {},
   "outputs": [
    {
     "data": {
      "text/html": [
       "<div>\n",
       "<style scoped>\n",
       "    .dataframe tbody tr th:only-of-type {\n",
       "        vertical-align: middle;\n",
       "    }\n",
       "\n",
       "    .dataframe tbody tr th {\n",
       "        vertical-align: top;\n",
       "    }\n",
       "\n",
       "    .dataframe thead th {\n",
       "        text-align: right;\n",
       "    }\n",
       "</style>\n",
       "<table border=\"1\" class=\"dataframe\">\n",
       "  <thead>\n",
       "    <tr style=\"text-align: right;\">\n",
       "      <th></th>\n",
       "      <th>profile_id</th>\n",
       "      <th>symbol</th>\n",
       "      <th>match_score</th>\n",
       "      <th>risk_similarity</th>\n",
       "      <th>interest_similarity</th>\n",
       "      <th>category_similarity</th>\n",
       "    </tr>\n",
       "  </thead>\n",
       "  <tbody>\n",
       "    <tr>\n",
       "      <th>0</th>\n",
       "      <td>253</td>\n",
       "      <td>1INCH.CC</td>\n",
       "      <td>9</td>\n",
       "      <td>0.595085</td>\n",
       "      <td>0.0</td>\n",
       "      <td>0.000000</td>\n",
       "    </tr>\n",
       "    <tr>\n",
       "      <th>1</th>\n",
       "      <td>253</td>\n",
       "      <td>A</td>\n",
       "      <td>62</td>\n",
       "      <td>0.923729</td>\n",
       "      <td>0.0</td>\n",
       "      <td>0.902737</td>\n",
       "    </tr>\n",
       "    <tr>\n",
       "      <th>2</th>\n",
       "      <td>253</td>\n",
       "      <td>AA</td>\n",
       "      <td>46</td>\n",
       "      <td>0.417966</td>\n",
       "      <td>0.0</td>\n",
       "      <td>0.690276</td>\n",
       "    </tr>\n",
       "    <tr>\n",
       "      <th>3</th>\n",
       "      <td>253</td>\n",
       "      <td>AAC</td>\n",
       "      <td>30</td>\n",
       "      <td>0.976441</td>\n",
       "      <td>0.0</td>\n",
       "      <td>0.000000</td>\n",
       "    </tr>\n",
       "    <tr>\n",
       "      <th>4</th>\n",
       "      <td>253</td>\n",
       "      <td>AADI</td>\n",
       "      <td>26</td>\n",
       "      <td>0.769746</td>\n",
       "      <td>0.0</td>\n",
       "      <td>0.000000</td>\n",
       "    </tr>\n",
       "    <tr>\n",
       "      <th>...</th>\n",
       "      <td>...</td>\n",
       "      <td>...</td>\n",
       "      <td>...</td>\n",
       "      <td>...</td>\n",
       "      <td>...</td>\n",
       "      <td>...</td>\n",
       "    </tr>\n",
       "    <tr>\n",
       "      <th>16921</th>\n",
       "      <td>21730</td>\n",
       "      <td>ZVIA</td>\n",
       "      <td>58</td>\n",
       "      <td>0.901864</td>\n",
       "      <td>0.0</td>\n",
       "      <td>0.810959</td>\n",
       "    </tr>\n",
       "    <tr>\n",
       "      <th>16922</th>\n",
       "      <td>21730</td>\n",
       "      <td>ZWRK</td>\n",
       "      <td>38</td>\n",
       "      <td>0.476441</td>\n",
       "      <td>0.0</td>\n",
       "      <td>0.496843</td>\n",
       "    </tr>\n",
       "    <tr>\n",
       "      <th>16923</th>\n",
       "      <td>21730</td>\n",
       "      <td>ZWS</td>\n",
       "      <td>30</td>\n",
       "      <td>0.665000</td>\n",
       "      <td>0.0</td>\n",
       "      <td>0.224893</td>\n",
       "    </tr>\n",
       "    <tr>\n",
       "      <th>16924</th>\n",
       "      <td>21730</td>\n",
       "      <td>ZYME</td>\n",
       "      <td>94</td>\n",
       "      <td>0.979661</td>\n",
       "      <td>1.0</td>\n",
       "      <td>0.844991</td>\n",
       "    </tr>\n",
       "    <tr>\n",
       "      <th>16925</th>\n",
       "      <td>21730</td>\n",
       "      <td>ZYXI</td>\n",
       "      <td>63</td>\n",
       "      <td>0.804407</td>\n",
       "      <td>0.0</td>\n",
       "      <td>0.999239</td>\n",
       "    </tr>\n",
       "  </tbody>\n",
       "</table>\n",
       "<p>16926 rows × 6 columns</p>\n",
       "</div>"
      ],
      "text/plain": [
       "       profile_id    symbol  match_score  risk_similarity  \\\n",
       "0             253  1INCH.CC            9         0.595085   \n",
       "1             253         A           62         0.923729   \n",
       "2             253        AA           46         0.417966   \n",
       "3             253       AAC           30         0.976441   \n",
       "4             253      AADI           26         0.769746   \n",
       "...           ...       ...          ...              ...   \n",
       "16921       21730      ZVIA           58         0.901864   \n",
       "16922       21730      ZWRK           38         0.476441   \n",
       "16923       21730       ZWS           30         0.665000   \n",
       "16924       21730      ZYME           94         0.979661   \n",
       "16925       21730      ZYXI           63         0.804407   \n",
       "\n",
       "       interest_similarity  category_similarity  \n",
       "0                      0.0             0.000000  \n",
       "1                      0.0             0.902737  \n",
       "2                      0.0             0.690276  \n",
       "3                      0.0             0.000000  \n",
       "4                      0.0             0.000000  \n",
       "...                    ...                  ...  \n",
       "16921                  0.0             0.810959  \n",
       "16922                  0.0             0.496843  \n",
       "16923                  0.0             0.224893  \n",
       "16924                  1.0             0.844991  \n",
       "16925                  0.0             0.999239  \n",
       "\n",
       "[16926 rows x 6 columns]"
      ]
     },
     "execution_count": 5,
     "metadata": {},
     "output_type": "execute_result"
    }
   ],
   "source": [
    "df"
   ]
  },
  {
   "cell_type": "code",
   "execution_count": 6,
   "id": "917a1802",
   "metadata": {},
   "outputs": [],
   "source": [
    "def sigmoid(x, beta):\n",
    "    y = 1 / (1 + ((x+1e-10)/(1- x+1e-10))**(-beta))\n",
    "    return (y)\n"
   ]
  },
  {
   "cell_type": "code",
   "execution_count": 7,
   "id": "ca927151",
   "metadata": {},
   "outputs": [],
   "source": [
    "x = np.linspace(0,1,100)\n",
    "y = sigmoid(x, 1.5)"
   ]
  },
  {
   "cell_type": "code",
   "execution_count": 8,
   "id": "5ce4a001",
   "metadata": {},
   "outputs": [],
   "source": [
    "import matplotlib.pyplot as plt"
   ]
  },
  {
   "cell_type": "code",
   "execution_count": 9,
   "id": "4da6dbdc",
   "metadata": {},
   "outputs": [
    {
     "data": {
      "text/plain": [
       "[<matplotlib.lines.Line2D at 0x138487a60>]"
      ]
     },
     "execution_count": 9,
     "metadata": {},
     "output_type": "execute_result"
    },
    {
     "data": {
      "image/png": "[encoded data removed]",
      "text/plain": [
       "<Figure size 432x288 with 1 Axes>"
      ]
     },
     "metadata": {
      "needs_background": "light"
     },
     "output_type": "display_data"
    }
   ],
   "source": [
    "plt.plot(x,y)"
   ]
  },
  {
   "cell_type": "code",
   "execution_count": 10,
   "id": "1598aed8",
   "metadata": {},
   "outputs": [],
   "source": [
    "def MatchScoreSigma(risk, interest, categories, weight=[0.6,0.3,0.1]):\n",
    "    weighted_similarity = np.sum(np.array([risk, interest, categories]) * np.array(weight))\n",
    "    \n",
    "    return round(sigmoid(weighted_similarity,2)*100,0)\n",
    "    "
   ]
  },
  {
   "cell_type": "code",
   "execution_count": 11,
   "id": "7b8b4d1b",
   "metadata": {},
   "outputs": [],
   "source": [
    "def MatchScoreRaw(risk, interest, categories, weight=[0.6,0.3,0.1]):\n",
    "    weighted_similarity = np.sum(np.array([risk, interest, categories]) * np.array(weight))\n",
    "    \n",
    "    return round(weighted_similarity*100,0)"
   ]
  },
  {
   "cell_type": "code",
   "execution_count": 12,
   "id": "2fcf9737",
   "metadata": {},
   "outputs": [],
   "source": [
    "def MatchScoreSigmaWithin(risk, interest, categories, weight=[0.6,0.3,0.1], beta = 3):\n",
    "    risk = sigmoid(risk, beta)\n",
    "    interest = sigmoid(interest, beta)\n",
    "    categories = sigmoid(categories, beta)\n",
    "    weighted_similarity = np.sum(np.array([risk, interest, categories]) * np.array(weight))\n",
    "    \n",
    "    return round(weighted_similarity*100,0)"
   ]
  },
  {
   "cell_type": "code",
   "execution_count": 13,
   "id": "7253408f",
   "metadata": {},
   "outputs": [
    {
     "name": "stderr",
     "output_type": "stream",
     "text": [
      "100%|███████████████████████████████████| 16926/16926 [00:05<00:00, 2887.69it/s]\n"
     ]
    }
   ],
   "source": [
    "n = df.shape[0]\n",
    "\n",
    "test = pd.DataFrame(np.empty((n,8)),\n",
    "                    columns=['profile_id', 'risk_similarity',\n",
    "                             'interest_similarity', 'category_similarity',\n",
    "                             'old_match_score', 'linear_match_score', 'sigmoid_match_score', 'sigma_within'\n",
    "                            ],\n",
    "                   index = range(n))\n",
    "for i in tqdm(range(n)):\n",
    "    test['profile_id'].iloc[i] = df['profile_id'].iloc[i]\n",
    "    test['risk_similarity'].iloc[i] = df['risk_similarity'].iloc[i]\n",
    "    test['interest_similarity'].iloc[i] = df['interest_similarity'].iloc[i]\n",
    "    test['category_similarity'].iloc[i] = df['category_similarity'].iloc[i]\n",
    "    test['old_match_score'].iloc[i] = df['match_score'].iloc[i]\n",
    "    test['linear_match_score'].iloc[i] = MatchScoreRaw(df.risk_similarity[i], df.interest_similarity[i], df.category_similarity[i], weight=[0.6,0.3,0.1])\n",
    "    test['sigmoid_match_score'].iloc[i] = MatchScoreSigma(df.risk_similarity[i], df.interest_similarity[i], df.category_similarity[i], weight=[0.6,0.3,0.1])\n",
    "    test['sigma_within'].iloc[i] = MatchScoreSigmaWithin(df.risk_similarity[i], df.interest_similarity[i], df.category_similarity[i], weight=[0.6,0.3,0.1])\n",
    "    "
   ]
  },
  {
   "cell_type": "code",
   "execution_count": 14,
   "id": "5c4c9a10",
   "metadata": {},
   "outputs": [
    {
     "data": {
      "text/html": [
       "<div>\n",
       "<style scoped>\n",
       "    .dataframe tbody tr th:only-of-type {\n",
       "        vertical-align: middle;\n",
       "    }\n",
       "\n",
       "    .dataframe tbody tr th {\n",
       "        vertical-align: top;\n",
       "    }\n",
       "\n",
       "    .dataframe thead th {\n",
       "        text-align: right;\n",
       "    }\n",
       "</style>\n",
       "<table border=\"1\" class=\"dataframe\">\n",
       "  <thead>\n",
       "    <tr style=\"text-align: right;\">\n",
       "      <th></th>\n",
       "      <th>profile_id</th>\n",
       "      <th>risk_similarity</th>\n",
       "      <th>interest_similarity</th>\n",
       "      <th>category_similarity</th>\n",
       "      <th>old_match_score</th>\n",
       "      <th>linear_match_score</th>\n",
       "      <th>sigmoid_match_score</th>\n",
       "      <th>sigma_within</th>\n",
       "    </tr>\n",
       "  </thead>\n",
       "  <tbody>\n",
       "    <tr>\n",
       "      <th>0</th>\n",
       "      <td>253.0</td>\n",
       "      <td>0.595085</td>\n",
       "      <td>0.0</td>\n",
       "      <td>0.000000</td>\n",
       "      <td>9.0</td>\n",
       "      <td>36.0</td>\n",
       "      <td>24.0</td>\n",
       "      <td>46.0</td>\n",
       "    </tr>\n",
       "    <tr>\n",
       "      <th>1</th>\n",
       "      <td>253.0</td>\n",
       "      <td>0.923729</td>\n",
       "      <td>0.0</td>\n",
       "      <td>0.902737</td>\n",
       "      <td>62.0</td>\n",
       "      <td>64.0</td>\n",
       "      <td>77.0</td>\n",
       "      <td>70.0</td>\n",
       "    </tr>\n",
       "    <tr>\n",
       "      <th>2</th>\n",
       "      <td>253.0</td>\n",
       "      <td>0.417966</td>\n",
       "      <td>0.0</td>\n",
       "      <td>0.690276</td>\n",
       "      <td>46.0</td>\n",
       "      <td>32.0</td>\n",
       "      <td>18.0</td>\n",
       "      <td>25.0</td>\n",
       "    </tr>\n",
       "    <tr>\n",
       "      <th>3</th>\n",
       "      <td>253.0</td>\n",
       "      <td>0.976441</td>\n",
       "      <td>0.0</td>\n",
       "      <td>0.000000</td>\n",
       "      <td>30.0</td>\n",
       "      <td>59.0</td>\n",
       "      <td>67.0</td>\n",
       "      <td>60.0</td>\n",
       "    </tr>\n",
       "    <tr>\n",
       "      <th>4</th>\n",
       "      <td>253.0</td>\n",
       "      <td>0.769746</td>\n",
       "      <td>0.0</td>\n",
       "      <td>0.000000</td>\n",
       "      <td>26.0</td>\n",
       "      <td>46.0</td>\n",
       "      <td>42.0</td>\n",
       "      <td>58.0</td>\n",
       "    </tr>\n",
       "    <tr>\n",
       "      <th>...</th>\n",
       "      <td>...</td>\n",
       "      <td>...</td>\n",
       "      <td>...</td>\n",
       "      <td>...</td>\n",
       "      <td>...</td>\n",
       "      <td>...</td>\n",
       "      <td>...</td>\n",
       "      <td>...</td>\n",
       "    </tr>\n",
       "    <tr>\n",
       "      <th>16921</th>\n",
       "      <td>21730.0</td>\n",
       "      <td>0.901864</td>\n",
       "      <td>0.0</td>\n",
       "      <td>0.810959</td>\n",
       "      <td>58.0</td>\n",
       "      <td>62.0</td>\n",
       "      <td>73.0</td>\n",
       "      <td>70.0</td>\n",
       "    </tr>\n",
       "    <tr>\n",
       "      <th>16922</th>\n",
       "      <td>21730.0</td>\n",
       "      <td>0.476441</td>\n",
       "      <td>0.0</td>\n",
       "      <td>0.496843</td>\n",
       "      <td>38.0</td>\n",
       "      <td>34.0</td>\n",
       "      <td>20.0</td>\n",
       "      <td>31.0</td>\n",
       "    </tr>\n",
       "    <tr>\n",
       "      <th>16923</th>\n",
       "      <td>21730.0</td>\n",
       "      <td>0.665000</td>\n",
       "      <td>0.0</td>\n",
       "      <td>0.224893</td>\n",
       "      <td>30.0</td>\n",
       "      <td>42.0</td>\n",
       "      <td>35.0</td>\n",
       "      <td>53.0</td>\n",
       "    </tr>\n",
       "    <tr>\n",
       "      <th>16924</th>\n",
       "      <td>21730.0</td>\n",
       "      <td>0.979661</td>\n",
       "      <td>1.0</td>\n",
       "      <td>0.844991</td>\n",
       "      <td>94.0</td>\n",
       "      <td>97.0</td>\n",
       "      <td>100.0</td>\n",
       "      <td>100.0</td>\n",
       "    </tr>\n",
       "    <tr>\n",
       "      <th>16925</th>\n",
       "      <td>21730.0</td>\n",
       "      <td>0.804407</td>\n",
       "      <td>0.0</td>\n",
       "      <td>0.999239</td>\n",
       "      <td>63.0</td>\n",
       "      <td>58.0</td>\n",
       "      <td>66.0</td>\n",
       "      <td>69.0</td>\n",
       "    </tr>\n",
       "  </tbody>\n",
       "</table>\n",
       "<p>16926 rows × 8 columns</p>\n",
       "</div>"
      ],
      "text/plain": [
       "       profile_id  risk_similarity  interest_similarity  category_similarity  \\\n",
       "0           253.0         0.595085                  0.0             0.000000   \n",
       "1           253.0         0.923729                  0.0             0.902737   \n",
       "2           253.0         0.417966                  0.0             0.690276   \n",
       "3           253.0         0.976441                  0.0             0.000000   \n",
       "4           253.0         0.769746                  0.0             0.000000   \n",
       "...           ...              ...                  ...                  ...   \n",
       "16921     21730.0         0.901864                  0.0             0.810959   \n",
       "16922     21730.0         0.476441                  0.0             0.496843   \n",
       "16923     21730.0         0.665000                  0.0             0.224893   \n",
       "16924     21730.0         0.979661                  1.0             0.844991   \n",
       "16925     21730.0         0.804407                  0.0             0.999239   \n",
       "\n",
       "       old_match_score  linear_match_score  sigmoid_match_score  sigma_within  \n",
       "0                  9.0                36.0                 24.0          46.0  \n",
       "1                 62.0                64.0                 77.0          70.0  \n",
       "2                 46.0                32.0                 18.0          25.0  \n",
       "3                 30.0                59.0                 67.0          60.0  \n",
       "4                 26.0                46.0                 42.0          58.0  \n",
       "...                ...                 ...                  ...           ...  \n",
       "16921             58.0                62.0                 73.0          70.0  \n",
       "16922             38.0                34.0                 20.0          31.0  \n",
       "16923             30.0                42.0                 35.0          53.0  \n",
       "16924             94.0                97.0                100.0         100.0  \n",
       "16925             63.0                58.0                 66.0          69.0  \n",
       "\n",
       "[16926 rows x 8 columns]"
      ]
     },
     "execution_count": 14,
     "metadata": {},
     "output_type": "execute_result"
    }
   ],
   "source": [
    "test"
   ]
  },
  {
   "cell_type": "code",
   "execution_count": 16,
   "id": "e6a16fc6",
   "metadata": {},
   "outputs": [
    {
     "data": {
      "text/plain": [
       "<AxesSubplot:xlabel='risk_similarity'>"
      ]
     },
     "execution_count": 16,
     "metadata": {},
     "output_type": "execute_result"
    },
    {
     "data": {
      "image/png": "[encoded data removed]",
      "text/plain": [
       "<Figure size 432x288 with 1 Axes>"
      ]
     },
     "metadata": {
      "needs_background": "light"
     },
     "output_type": "display_data"
    }
   ],
   "source": [
    "pid = test.profile_id.unique()[0]\n",
    "test.loc[(test.profile_id==pid)&(test.category_similarity==0)&(test.interest_similarity==0)].sort_values('risk_similarity').set_index('risk_similarity')[['old_match_score','linear_match_score']].plot()"
   ]
  },
  {
   "cell_type": "code",
   "execution_count": 17,
   "id": "1fe5c79d",
   "metadata": {},
   "outputs": [
    {
     "data": {
      "text/plain": [
       "<AxesSubplot:xlabel='risk_similarity'>"
      ]
     },
     "execution_count": 17,
     "metadata": {},
     "output_type": "execute_result"
    },
    {
     "data": {
      "image/png": "[encoded data removed]",
      "text/plain": [
       "<Figure size 432x288 with 1 Axes>"
      ]
     },
     "metadata": {
      "needs_background": "light"
     },
     "output_type": "display_data"
    }
   ],
   "source": [
    "test.loc[(test.profile_id==pid)&(test.category_similarity==0)&(test.interest_similarity==0)].sort_values('risk_similarity').set_index('risk_similarity')[['old_match_score','linear_match_score','sigma_within']].plot()"
   ]
  },
  {
   "cell_type": "code",
   "execution_count": 18,
   "id": "12e9d389",
   "metadata": {},
   "outputs": [
    {
     "data": {
      "text/plain": [
       "<AxesSubplot:xlabel='risk_similarity'>"
      ]
     },
     "execution_count": 18,
     "metadata": {},
     "output_type": "execute_result"
    },
    {
     "data": {
      "image/png": "[encoded data removed]",
      "text/plain": [
       "<Figure size 432x288 with 1 Axes>"
      ]
     },
     "metadata": {
      "needs_background": "light"
     },
     "output_type": "display_data"
    }
   ],
   "source": [
    "test.loc[(test.profile_id==pid)&(test.interest_similarity==0)].sort_values('risk_similarity').set_index('risk_similarity')[['old_match_score','linear_match_score','sigma_within']].plot()"
   ]
  },
  {
   "cell_type": "code",
   "execution_count": 19,
   "id": "23ed8574",
   "metadata": {},
   "outputs": [
    {
     "data": {
      "text/plain": [
       "<AxesSubplot:xlabel='risk_similarity'>"
      ]
     },
     "execution_count": 19,
     "metadata": {},
     "output_type": "execute_result"
    },
    {
     "data": {
      "image/png": "[encoded data removed]",
      "text/plain": [
       "<Figure size 432x288 with 1 Axes>"
      ]
     },
     "metadata": {
      "needs_background": "light"
     },
     "output_type": "display_data"
    }
   ],
   "source": [
    "test.loc[(test.profile_id==pid)&(test.category_similarity==0)].sort_values('risk_similarity').set_index('risk_similarity')[['old_match_score','linear_match_score','sigma_within']].plot()"
   ]
  },
  {
   "cell_type": "code",
   "execution_count": 20,
   "id": "7a6be325",
   "metadata": {},
   "outputs": [
    {
     "data": {
      "text/plain": [
       "<AxesSubplot:xlabel='risk_similarity'>"
      ]
     },
     "execution_count": 20,
     "metadata": {},
     "output_type": "execute_result"
    },
    {
     "data": {
      "image/png": "[encoded data removed]",
      "text/plain": [
       "<Figure size 432x288 with 1 Axes>"
      ]
     },
     "metadata": {
      "needs_background": "light"
     },
     "output_type": "display_data"
    }
   ],
   "source": [
    "\n",
    "test.loc[test.profile_id==pid].sort_values('risk_similarity').set_index('risk_similarity')[['old_match_score','linear_match_score']].plot()"
   ]
  },
  {
   "cell_type": "code",
   "execution_count": 21,
   "id": "88982c98",
   "metadata": {},
   "outputs": [
    {
     "data": {
      "text/plain": [
       "<AxesSubplot:xlabel='risk_similarity'>"
      ]
     },
     "execution_count": 21,
     "metadata": {},
     "output_type": "execute_result"
    },
    {
     "data": {
      "image/png": "[encoded data removed]",
      "text/plain": [
       "<Figure size 432x288 with 1 Axes>"
      ]
     },
     "metadata": {
      "needs_background": "light"
     },
     "output_type": "display_data"
    }
   ],
   "source": [
    "test.sort_values('risk_similarity').set_index('risk_similarity')[['old_match_score','linear_match_score', 'sigma_within']].plot()"
   ]
  }
 ],
 "metadata": {
  "kernelspec": {
   "display_name": "Python 3 (ipykernel)",
   "language": "python",
   "name": "python3"
  },
  "language_info": {
   "codemirror_mode": {
    "name": "ipython",
    "version": 3
   },
   "file_extension": ".py",
   "mimetype": "text/x-python",
   "name": "python",
   "nbconvert_exporter": "python",
   "pygments_lexer": "ipython3",
   "version": "3.10.3"
  }
 },
 "nbformat": 4,
 "nbformat_minor": 5
}
