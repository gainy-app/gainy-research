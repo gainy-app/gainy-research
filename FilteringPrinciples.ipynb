{
 "cells": [
  {
   "cell_type": "code",
   "execution_count": 1,
   "id": "388e5a1e",
   "metadata": {},
   "outputs": [],
   "source": [
    "import pandas as pd\n",
    "from utils.connect import GetQuery"
   ]
  },
  {
   "cell_type": "markdown",
   "id": "ae78a4a3",
   "metadata": {},
   "source": [
    "Currently we have 29432 securities on the platform and calculate riskscore for 15682 fo them\n"
   ]
  },
  {
   "cell_type": "code",
   "execution_count": 2,
   "id": "555eef03",
   "metadata": {},
   "outputs": [],
   "source": [
    "all_tickers = GetQuery(f\"\"\"\n",
    "SELECT DISTINCT(symbol) from base_tickers\n",
    "\"\"\").symbol\n",
    "\n",
    "tickers_risk = GetQuery(f\"\"\"\n",
    "SELECT DISTINCT(symbol) from ticker_risk_scores\n",
    "\"\"\").symbol"
   ]
  },
  {
   "cell_type": "code",
   "execution_count": 3,
   "id": "add4dfce",
   "metadata": {},
   "outputs": [
    {
     "data": {
      "text/plain": [
       "29517"
      ]
     },
     "execution_count": 3,
     "metadata": {},
     "output_type": "execute_result"
    }
   ],
   "source": [
    "len(all_tickers)"
   ]
  },
  {
   "cell_type": "code",
   "execution_count": 4,
   "id": "50dab516",
   "metadata": {},
   "outputs": [
    {
     "data": {
      "text/plain": [
       "15716"
      ]
     },
     "execution_count": 4,
     "metadata": {},
     "output_type": "execute_result"
    }
   ],
   "source": [
    "len(tickers_risk)"
   ]
  },
  {
   "cell_type": "markdown",
   "id": "5dc20c1a",
   "metadata": {},
   "source": [
    "## Proposed change"
   ]
  },
  {
   "cell_type": "markdown",
   "id": "79ceb70a",
   "metadata": {},
   "source": [
    "Have all tickers for information (search only). Calculate risk/matchscore only for tickers with the following characteristics\n",
    "\n",
    "**For stocks**\n",
    "- Market Cap > $100mln\n",
    "\n",
    "- Avg 90-day Daily volume > $500K (dollars not # of shares)\n",
    "\n",
    "\n",
    "**For ETFs**\n",
    "- NAV over 100 mln (check #)\n",
    "\n",
    "- Avg 90-day Daily volume > $500K (dollars not # of shares)\n",
    "\n",
    "\n",
    "**For Crypto**\n",
    "\n",
    "- Top 100 by market cap rank\n",
    "\n",
    "- Avg 90-day Daily volume > $500K (dollars not # of shares)"
   ]
  },
  {
   "cell_type": "code",
   "execution_count": 5,
   "id": "aede5e8c",
   "metadata": {},
   "outputs": [],
   "source": [
    "def FilteredStocks():\n",
    "    # Get Stocks only\n",
    "    tickers = GetQuery(\"\"\"\n",
    "    SELECT bt.symbol, bt.type, tm.market_capitalization, tm.avg_volume_90d_money \n",
    "    FROM base_tickers bt\n",
    "    LEFT JOIN ticker_metrics tm\n",
    "    ON bt.symbol=tm.symbol\n",
    "    WHERE bt.type IN ('common stock', 'preferred stock') AND\n",
    "    tm.market_capitalization>=100000000 AND tm.avg_volume_90d_money > 500000 \n",
    "    \n",
    "    \"\"\")\n",
    "    \n",
    "    return tickers"
   ]
  },
  {
   "cell_type": "code",
   "execution_count": 6,
   "id": "a11cc3c6",
   "metadata": {},
   "outputs": [
    {
     "data": {
      "text/html": [
       "<div>\n",
       "<style scoped>\n",
       "    .dataframe tbody tr th:only-of-type {\n",
       "        vertical-align: middle;\n",
       "    }\n",
       "\n",
       "    .dataframe tbody tr th {\n",
       "        vertical-align: top;\n",
       "    }\n",
       "\n",
       "    .dataframe thead th {\n",
       "        text-align: right;\n",
       "    }\n",
       "</style>\n",
       "<table border=\"1\" class=\"dataframe\">\n",
       "  <thead>\n",
       "    <tr style=\"text-align: right;\">\n",
       "      <th></th>\n",
       "      <th>symbol</th>\n",
       "      <th>type</th>\n",
       "      <th>market_capitalization</th>\n",
       "      <th>avg_volume_90d_money</th>\n",
       "    </tr>\n",
       "  </thead>\n",
       "  <tbody>\n",
       "    <tr>\n",
       "      <th>0</th>\n",
       "      <td>QSR</td>\n",
       "      <td>common stock</td>\n",
       "      <td>29205020672</td>\n",
       "      <td>1.023580e+08</td>\n",
       "    </tr>\n",
       "    <tr>\n",
       "      <th>1</th>\n",
       "      <td>GHC</td>\n",
       "      <td>common stock</td>\n",
       "      <td>2888666624</td>\n",
       "      <td>1.173312e+07</td>\n",
       "    </tr>\n",
       "    <tr>\n",
       "      <th>2</th>\n",
       "      <td>MARA</td>\n",
       "      <td>common stock</td>\n",
       "      <td>453346976</td>\n",
       "      <td>1.663966e+08</td>\n",
       "    </tr>\n",
       "    <tr>\n",
       "      <th>3</th>\n",
       "      <td>GH</td>\n",
       "      <td>common stock</td>\n",
       "      <td>3079226112</td>\n",
       "      <td>5.885755e+07</td>\n",
       "    </tr>\n",
       "    <tr>\n",
       "      <th>4</th>\n",
       "      <td>KW</td>\n",
       "      <td>common stock</td>\n",
       "      <td>2170208256</td>\n",
       "      <td>1.032229e+07</td>\n",
       "    </tr>\n",
       "    <tr>\n",
       "      <th>...</th>\n",
       "      <td>...</td>\n",
       "      <td>...</td>\n",
       "      <td>...</td>\n",
       "      <td>...</td>\n",
       "    </tr>\n",
       "    <tr>\n",
       "      <th>4265</th>\n",
       "      <td>PETQ</td>\n",
       "      <td>common stock</td>\n",
       "      <td>299328128</td>\n",
       "      <td>4.922947e+06</td>\n",
       "    </tr>\n",
       "    <tr>\n",
       "      <th>4266</th>\n",
       "      <td>TMUS</td>\n",
       "      <td>common stock</td>\n",
       "      <td>177117200384</td>\n",
       "      <td>8.045765e+08</td>\n",
       "    </tr>\n",
       "    <tr>\n",
       "      <th>4267</th>\n",
       "      <td>NEU</td>\n",
       "      <td>common stock</td>\n",
       "      <td>2995883264</td>\n",
       "      <td>1.401760e+07</td>\n",
       "    </tr>\n",
       "    <tr>\n",
       "      <th>4268</th>\n",
       "      <td>PAXS</td>\n",
       "      <td>common stock</td>\n",
       "      <td>675578880</td>\n",
       "      <td>2.983109e+06</td>\n",
       "    </tr>\n",
       "    <tr>\n",
       "      <th>4269</th>\n",
       "      <td>MAXR</td>\n",
       "      <td>common stock</td>\n",
       "      <td>3833699840</td>\n",
       "      <td>3.228312e+07</td>\n",
       "    </tr>\n",
       "  </tbody>\n",
       "</table>\n",
       "<p>4270 rows × 4 columns</p>\n",
       "</div>"
      ],
      "text/plain": [
       "     symbol          type  market_capitalization  avg_volume_90d_money\n",
       "0       QSR  common stock            29205020672          1.023580e+08\n",
       "1       GHC  common stock             2888666624          1.173312e+07\n",
       "2      MARA  common stock              453346976          1.663966e+08\n",
       "3        GH  common stock             3079226112          5.885755e+07\n",
       "4        KW  common stock             2170208256          1.032229e+07\n",
       "...     ...           ...                    ...                   ...\n",
       "4265   PETQ  common stock              299328128          4.922947e+06\n",
       "4266   TMUS  common stock           177117200384          8.045765e+08\n",
       "4267    NEU  common stock             2995883264          1.401760e+07\n",
       "4268   PAXS  common stock              675578880          2.983109e+06\n",
       "4269   MAXR  common stock             3833699840          3.228312e+07\n",
       "\n",
       "[4270 rows x 4 columns]"
      ]
     },
     "execution_count": 6,
     "metadata": {},
     "output_type": "execute_result"
    }
   ],
   "source": [
    "stocks = FilteredStocks()\n",
    "stocks"
   ]
  },
  {
   "cell_type": "code",
   "execution_count": 7,
   "id": "ec25949f",
   "metadata": {},
   "outputs": [],
   "source": [
    "# Filter ETFs\n",
    "\n",
    "def FilterETF():\n",
    "    \n",
    "    # Get ETFs and Funds only\n",
    "    tickers = GetQuery(\"\"\"\n",
    "    SELECT bt.symbol, bt.type, tm.avg_volume_90d_money \n",
    "    FROM base_tickers bt\n",
    "    LEFT JOIN ticker_metrics tm\n",
    "    ON bt.symbol=tm.symbol\n",
    "    WHERE bt.type IN ('etf', 'fund', 'mutual fund') \n",
    "    AND tm.avg_volume_90d_money > 500000\n",
    "    \"\"\")\n",
    "    \n",
    "    return tickers"
   ]
  },
  {
   "cell_type": "code",
   "execution_count": 8,
   "id": "0f6bb905",
   "metadata": {},
   "outputs": [
    {
     "data": {
      "text/html": [
       "<div>\n",
       "<style scoped>\n",
       "    .dataframe tbody tr th:only-of-type {\n",
       "        vertical-align: middle;\n",
       "    }\n",
       "\n",
       "    .dataframe tbody tr th {\n",
       "        vertical-align: top;\n",
       "    }\n",
       "\n",
       "    .dataframe thead th {\n",
       "        text-align: right;\n",
       "    }\n",
       "</style>\n",
       "<table border=\"1\" class=\"dataframe\">\n",
       "  <thead>\n",
       "    <tr style=\"text-align: right;\">\n",
       "      <th></th>\n",
       "      <th>symbol</th>\n",
       "      <th>type</th>\n",
       "      <th>avg_volume_90d_money</th>\n",
       "    </tr>\n",
       "  </thead>\n",
       "  <tbody>\n",
       "    <tr>\n",
       "      <th>0</th>\n",
       "      <td>FDRR</td>\n",
       "      <td>etf</td>\n",
       "      <td>1.886861e+06</td>\n",
       "    </tr>\n",
       "    <tr>\n",
       "      <th>1</th>\n",
       "      <td>TSLQ</td>\n",
       "      <td>etf</td>\n",
       "      <td>6.736017e+07</td>\n",
       "    </tr>\n",
       "    <tr>\n",
       "      <th>2</th>\n",
       "      <td>FEM</td>\n",
       "      <td>etf</td>\n",
       "      <td>3.105153e+06</td>\n",
       "    </tr>\n",
       "    <tr>\n",
       "      <th>3</th>\n",
       "      <td>FLCB</td>\n",
       "      <td>etf</td>\n",
       "      <td>2.406972e+06</td>\n",
       "    </tr>\n",
       "    <tr>\n",
       "      <th>4</th>\n",
       "      <td>FLN</td>\n",
       "      <td>etf</td>\n",
       "      <td>6.108756e+05</td>\n",
       "    </tr>\n",
       "    <tr>\n",
       "      <th>...</th>\n",
       "      <td>...</td>\n",
       "      <td>...</td>\n",
       "      <td>...</td>\n",
       "    </tr>\n",
       "    <tr>\n",
       "      <th>1652</th>\n",
       "      <td>DCPE</td>\n",
       "      <td>etf</td>\n",
       "      <td>2.917529e+06</td>\n",
       "    </tr>\n",
       "    <tr>\n",
       "      <th>1653</th>\n",
       "      <td>DFSE</td>\n",
       "      <td>etf</td>\n",
       "      <td>2.190555e+06</td>\n",
       "    </tr>\n",
       "    <tr>\n",
       "      <th>1654</th>\n",
       "      <td>DBP</td>\n",
       "      <td>etf</td>\n",
       "      <td>1.305319e+06</td>\n",
       "    </tr>\n",
       "    <tr>\n",
       "      <th>1655</th>\n",
       "      <td>DFCF</td>\n",
       "      <td>etf</td>\n",
       "      <td>2.894085e+07</td>\n",
       "    </tr>\n",
       "    <tr>\n",
       "      <th>1656</th>\n",
       "      <td>DFUS</td>\n",
       "      <td>etf</td>\n",
       "      <td>1.100075e+07</td>\n",
       "    </tr>\n",
       "  </tbody>\n",
       "</table>\n",
       "<p>1657 rows × 3 columns</p>\n",
       "</div>"
      ],
      "text/plain": [
       "     symbol type  avg_volume_90d_money\n",
       "0      FDRR  etf          1.886861e+06\n",
       "1      TSLQ  etf          6.736017e+07\n",
       "2       FEM  etf          3.105153e+06\n",
       "3      FLCB  etf          2.406972e+06\n",
       "4       FLN  etf          6.108756e+05\n",
       "...     ...  ...                   ...\n",
       "1652   DCPE  etf          2.917529e+06\n",
       "1653   DFSE  etf          2.190555e+06\n",
       "1654    DBP  etf          1.305319e+06\n",
       "1655   DFCF  etf          2.894085e+07\n",
       "1656   DFUS  etf          1.100075e+07\n",
       "\n",
       "[1657 rows x 3 columns]"
      ]
     },
     "execution_count": 8,
     "metadata": {},
     "output_type": "execute_result"
    }
   ],
   "source": [
    "etfs = FilterETF()\n",
    "etfs"
   ]
  },
  {
   "cell_type": "code",
   "execution_count": 9,
   "id": "564c1589",
   "metadata": {},
   "outputs": [],
   "source": [
    "def FilterCoins():\n",
    "    # Get ETFs and Funds only\n",
    "    tickers = GetQuery(\"\"\"\n",
    "    SELECT m.symbol, m.type, m.avg_volume_90d_money, c.market_cap_rank\n",
    "    FROM (SELECT bt.symbol, bt.type, tm.avg_volume_90d_money \n",
    "        FROM base_tickers bt\n",
    "        LEFT JOIN ticker_metrics tm\n",
    "        ON bt.symbol=tm.symbol\n",
    "        WHERE bt.type = 'crypto' \n",
    "        AND tm.avg_volume_90d_money > 500000) m\n",
    "    LEFT JOIN coingecko_coin c \n",
    "    ON REPLACE(m.symbol,'.CC','')=UPPER(c.symbol)\n",
    "    WHERE c.market_cap_rank <=100 \n",
    "    AND m.avg_volume_90d_money >= 500000\n",
    "    \n",
    "\n",
    "    \"\"\")\n",
    "    \n",
    "    return tickers"
   ]
  },
  {
   "cell_type": "code",
   "execution_count": 10,
   "id": "836e1633",
   "metadata": {},
   "outputs": [
    {
     "data": {
      "text/html": [
       "<div>\n",
       "<style scoped>\n",
       "    .dataframe tbody tr th:only-of-type {\n",
       "        vertical-align: middle;\n",
       "    }\n",
       "\n",
       "    .dataframe tbody tr th {\n",
       "        vertical-align: top;\n",
       "    }\n",
       "\n",
       "    .dataframe thead th {\n",
       "        text-align: right;\n",
       "    }\n",
       "</style>\n",
       "<table border=\"1\" class=\"dataframe\">\n",
       "  <thead>\n",
       "    <tr style=\"text-align: right;\">\n",
       "      <th></th>\n",
       "      <th>symbol</th>\n",
       "      <th>type</th>\n",
       "      <th>avg_volume_90d_money</th>\n",
       "      <th>market_cap_rank</th>\n",
       "    </tr>\n",
       "  </thead>\n",
       "  <tbody>\n",
       "    <tr>\n",
       "      <th>0</th>\n",
       "      <td>HBAR.CC</td>\n",
       "      <td>crypto</td>\n",
       "      <td>2.013585e+06</td>\n",
       "      <td>36.0</td>\n",
       "    </tr>\n",
       "    <tr>\n",
       "      <th>1</th>\n",
       "      <td>ICP.CC</td>\n",
       "      <td>crypto</td>\n",
       "      <td>1.895453e+08</td>\n",
       "      <td>39.0</td>\n",
       "    </tr>\n",
       "    <tr>\n",
       "      <th>2</th>\n",
       "      <td>HT.CC</td>\n",
       "      <td>crypto</td>\n",
       "      <td>2.036143e+08</td>\n",
       "      <td>43.0</td>\n",
       "    </tr>\n",
       "    <tr>\n",
       "      <th>3</th>\n",
       "      <td>XMR.CC</td>\n",
       "      <td>crypto</td>\n",
       "      <td>1.191383e+10</td>\n",
       "      <td>25.0</td>\n",
       "    </tr>\n",
       "    <tr>\n",
       "      <th>4</th>\n",
       "      <td>KCS.CC</td>\n",
       "      <td>crypto</td>\n",
       "      <td>1.769104e+07</td>\n",
       "      <td>56.0</td>\n",
       "    </tr>\n",
       "    <tr>\n",
       "      <th>...</th>\n",
       "      <td>...</td>\n",
       "      <td>...</td>\n",
       "      <td>...</td>\n",
       "      <td>...</td>\n",
       "    </tr>\n",
       "    <tr>\n",
       "      <th>75</th>\n",
       "      <td>CRO.CC</td>\n",
       "      <td>crypto</td>\n",
       "      <td>3.584815e+06</td>\n",
       "      <td>31.0</td>\n",
       "    </tr>\n",
       "    <tr>\n",
       "      <th>76</th>\n",
       "      <td>CRV.CC</td>\n",
       "      <td>crypto</td>\n",
       "      <td>2.530076e+06</td>\n",
       "      <td>93.0</td>\n",
       "    </tr>\n",
       "    <tr>\n",
       "      <th>77</th>\n",
       "      <td>EGLD.CC</td>\n",
       "      <td>crypto</td>\n",
       "      <td>2.257713e+09</td>\n",
       "      <td>44.0</td>\n",
       "    </tr>\n",
       "    <tr>\n",
       "      <th>78</th>\n",
       "      <td>EOS.CC</td>\n",
       "      <td>crypto</td>\n",
       "      <td>1.849644e+08</td>\n",
       "      <td>40.0</td>\n",
       "    </tr>\n",
       "    <tr>\n",
       "      <th>79</th>\n",
       "      <td>GUSD.CC</td>\n",
       "      <td>crypto</td>\n",
       "      <td>1.537289e+06</td>\n",
       "      <td>59.0</td>\n",
       "    </tr>\n",
       "  </tbody>\n",
       "</table>\n",
       "<p>80 rows × 4 columns</p>\n",
       "</div>"
      ],
      "text/plain": [
       "     symbol    type  avg_volume_90d_money  market_cap_rank\n",
       "0   HBAR.CC  crypto          2.013585e+06             36.0\n",
       "1    ICP.CC  crypto          1.895453e+08             39.0\n",
       "2     HT.CC  crypto          2.036143e+08             43.0\n",
       "3    XMR.CC  crypto          1.191383e+10             25.0\n",
       "4    KCS.CC  crypto          1.769104e+07             56.0\n",
       "..      ...     ...                   ...              ...\n",
       "75   CRO.CC  crypto          3.584815e+06             31.0\n",
       "76   CRV.CC  crypto          2.530076e+06             93.0\n",
       "77  EGLD.CC  crypto          2.257713e+09             44.0\n",
       "78   EOS.CC  crypto          1.849644e+08             40.0\n",
       "79  GUSD.CC  crypto          1.537289e+06             59.0\n",
       "\n",
       "[80 rows x 4 columns]"
      ]
     },
     "execution_count": 10,
     "metadata": {},
     "output_type": "execute_result"
    }
   ],
   "source": [
    "coins = FilterCoins()\n",
    "coins"
   ]
  },
  {
   "cell_type": "code",
   "execution_count": 11,
   "id": "27921b62",
   "metadata": {},
   "outputs": [
    {
     "data": {
      "text/html": [
       "<div>\n",
       "<style scoped>\n",
       "    .dataframe tbody tr th:only-of-type {\n",
       "        vertical-align: middle;\n",
       "    }\n",
       "\n",
       "    .dataframe tbody tr th {\n",
       "        vertical-align: top;\n",
       "    }\n",
       "\n",
       "    .dataframe thead th {\n",
       "        text-align: right;\n",
       "    }\n",
       "</style>\n",
       "<table border=\"1\" class=\"dataframe\">\n",
       "  <thead>\n",
       "    <tr style=\"text-align: right;\">\n",
       "      <th></th>\n",
       "      <th>symbol</th>\n",
       "      <th>risk_score</th>\n",
       "    </tr>\n",
       "  </thead>\n",
       "  <tbody>\n",
       "    <tr>\n",
       "      <th>19</th>\n",
       "      <td>DAI.CC</td>\n",
       "      <td>0.226703</td>\n",
       "    </tr>\n",
       "    <tr>\n",
       "      <th>5</th>\n",
       "      <td>USDT.CC</td>\n",
       "      <td>0.226703</td>\n",
       "    </tr>\n",
       "    <tr>\n",
       "      <th>22</th>\n",
       "      <td>TUSD.CC</td>\n",
       "      <td>0.226703</td>\n",
       "    </tr>\n",
       "    <tr>\n",
       "      <th>21</th>\n",
       "      <td>USDC.CC</td>\n",
       "      <td>0.226703</td>\n",
       "    </tr>\n",
       "    <tr>\n",
       "      <th>20</th>\n",
       "      <td>BUSD.CC</td>\n",
       "      <td>0.226703</td>\n",
       "    </tr>\n",
       "    <tr>\n",
       "      <th>27</th>\n",
       "      <td>GUSD.CC</td>\n",
       "      <td>0.227974</td>\n",
       "    </tr>\n",
       "    <tr>\n",
       "      <th>29</th>\n",
       "      <td>USDP.CC</td>\n",
       "      <td>0.228228</td>\n",
       "    </tr>\n",
       "    <tr>\n",
       "      <th>28</th>\n",
       "      <td>FRAX.CC</td>\n",
       "      <td>0.229244</td>\n",
       "    </tr>\n",
       "    <tr>\n",
       "      <th>24</th>\n",
       "      <td>XAUT.CC</td>\n",
       "      <td>0.230007</td>\n",
       "    </tr>\n",
       "    <tr>\n",
       "      <th>0</th>\n",
       "      <td>PAXG.CC</td>\n",
       "      <td>0.230007</td>\n",
       "    </tr>\n",
       "    <tr>\n",
       "      <th>25</th>\n",
       "      <td>TRX.CC</td>\n",
       "      <td>0.436632</td>\n",
       "    </tr>\n",
       "    <tr>\n",
       "      <th>38</th>\n",
       "      <td>GT.CC</td>\n",
       "      <td>0.447814</td>\n",
       "    </tr>\n",
       "    <tr>\n",
       "      <th>26</th>\n",
       "      <td>BTC.CC</td>\n",
       "      <td>0.575398</td>\n",
       "    </tr>\n",
       "    <tr>\n",
       "      <th>39</th>\n",
       "      <td>WBTC.CC</td>\n",
       "      <td>0.583023</td>\n",
       "    </tr>\n",
       "    <tr>\n",
       "      <th>16</th>\n",
       "      <td>BTSE.CC</td>\n",
       "      <td>0.592426</td>\n",
       "    </tr>\n",
       "    <tr>\n",
       "      <th>35</th>\n",
       "      <td>XMR.CC</td>\n",
       "      <td>0.623941</td>\n",
       "    </tr>\n",
       "    <tr>\n",
       "      <th>15</th>\n",
       "      <td>CAKE.CC</td>\n",
       "      <td>0.649864</td>\n",
       "    </tr>\n",
       "    <tr>\n",
       "      <th>1</th>\n",
       "      <td>1INCH.CC</td>\n",
       "      <td>0.651135</td>\n",
       "    </tr>\n",
       "    <tr>\n",
       "      <th>36</th>\n",
       "      <td>BSV.CC</td>\n",
       "      <td>0.660539</td>\n",
       "    </tr>\n",
       "    <tr>\n",
       "      <th>4</th>\n",
       "      <td>KCS.CC</td>\n",
       "      <td>0.663080</td>\n",
       "    </tr>\n",
       "    <tr>\n",
       "      <th>37</th>\n",
       "      <td>XTZ.CC</td>\n",
       "      <td>0.679092</td>\n",
       "    </tr>\n",
       "    <tr>\n",
       "      <th>12</th>\n",
       "      <td>DOT.CC</td>\n",
       "      <td>0.694341</td>\n",
       "    </tr>\n",
       "    <tr>\n",
       "      <th>9</th>\n",
       "      <td>BCH.CC</td>\n",
       "      <td>0.702728</td>\n",
       "    </tr>\n",
       "    <tr>\n",
       "      <th>6</th>\n",
       "      <td>EGLD.CC</td>\n",
       "      <td>0.709590</td>\n",
       "    </tr>\n",
       "    <tr>\n",
       "      <th>3</th>\n",
       "      <td>BNB.CC</td>\n",
       "      <td>0.714165</td>\n",
       "    </tr>\n",
       "    <tr>\n",
       "      <th>7</th>\n",
       "      <td>ADA.CC</td>\n",
       "      <td>0.726618</td>\n",
       "    </tr>\n",
       "    <tr>\n",
       "      <th>11</th>\n",
       "      <td>HBAR.CC</td>\n",
       "      <td>0.727381</td>\n",
       "    </tr>\n",
       "    <tr>\n",
       "      <th>18</th>\n",
       "      <td>VET.CC</td>\n",
       "      <td>0.734497</td>\n",
       "    </tr>\n",
       "    <tr>\n",
       "      <th>8</th>\n",
       "      <td>MIOTA.CC</td>\n",
       "      <td>0.735768</td>\n",
       "    </tr>\n",
       "    <tr>\n",
       "      <th>10</th>\n",
       "      <td>EOS.CC</td>\n",
       "      <td>0.743138</td>\n",
       "    </tr>\n",
       "    <tr>\n",
       "      <th>14</th>\n",
       "      <td>LEO.CC</td>\n",
       "      <td>0.749238</td>\n",
       "    </tr>\n",
       "    <tr>\n",
       "      <th>33</th>\n",
       "      <td>XLM.CC</td>\n",
       "      <td>0.754829</td>\n",
       "    </tr>\n",
       "    <tr>\n",
       "      <th>13</th>\n",
       "      <td>THETA.CC</td>\n",
       "      <td>0.768807</td>\n",
       "    </tr>\n",
       "    <tr>\n",
       "      <th>17</th>\n",
       "      <td>FIL.CC</td>\n",
       "      <td>0.771603</td>\n",
       "    </tr>\n",
       "    <tr>\n",
       "      <th>32</th>\n",
       "      <td>NEO.CC</td>\n",
       "      <td>0.773382</td>\n",
       "    </tr>\n",
       "    <tr>\n",
       "      <th>2</th>\n",
       "      <td>ZEC.CC</td>\n",
       "      <td>0.779227</td>\n",
       "    </tr>\n",
       "    <tr>\n",
       "      <th>30</th>\n",
       "      <td>MINA.CC</td>\n",
       "      <td>0.782531</td>\n",
       "    </tr>\n",
       "    <tr>\n",
       "      <th>23</th>\n",
       "      <td>ETH.CC</td>\n",
       "      <td>0.793206</td>\n",
       "    </tr>\n",
       "    <tr>\n",
       "      <th>34</th>\n",
       "      <td>NEXO.CC</td>\n",
       "      <td>0.793968</td>\n",
       "    </tr>\n",
       "    <tr>\n",
       "      <th>31</th>\n",
       "      <td>STETH.CC</td>\n",
       "      <td>0.799559</td>\n",
       "    </tr>\n",
       "  </tbody>\n",
       "</table>\n",
       "</div>"
      ],
      "text/plain": [
       "      symbol  risk_score\n",
       "19    DAI.CC    0.226703\n",
       "5    USDT.CC    0.226703\n",
       "22   TUSD.CC    0.226703\n",
       "21   USDC.CC    0.226703\n",
       "20   BUSD.CC    0.226703\n",
       "27   GUSD.CC    0.227974\n",
       "29   USDP.CC    0.228228\n",
       "28   FRAX.CC    0.229244\n",
       "24   XAUT.CC    0.230007\n",
       "0    PAXG.CC    0.230007\n",
       "25    TRX.CC    0.436632\n",
       "38     GT.CC    0.447814\n",
       "26    BTC.CC    0.575398\n",
       "39   WBTC.CC    0.583023\n",
       "16   BTSE.CC    0.592426\n",
       "35    XMR.CC    0.623941\n",
       "15   CAKE.CC    0.649864\n",
       "1   1INCH.CC    0.651135\n",
       "36    BSV.CC    0.660539\n",
       "4     KCS.CC    0.663080\n",
       "37    XTZ.CC    0.679092\n",
       "12    DOT.CC    0.694341\n",
       "9     BCH.CC    0.702728\n",
       "6    EGLD.CC    0.709590\n",
       "3     BNB.CC    0.714165\n",
       "7     ADA.CC    0.726618\n",
       "11   HBAR.CC    0.727381\n",
       "18    VET.CC    0.734497\n",
       "8   MIOTA.CC    0.735768\n",
       "10    EOS.CC    0.743138\n",
       "14    LEO.CC    0.749238\n",
       "33    XLM.CC    0.754829\n",
       "13  THETA.CC    0.768807\n",
       "17    FIL.CC    0.771603\n",
       "32    NEO.CC    0.773382\n",
       "2     ZEC.CC    0.779227\n",
       "30   MINA.CC    0.782531\n",
       "23    ETH.CC    0.793206\n",
       "34   NEXO.CC    0.793968\n",
       "31  STETH.CC    0.799559"
      ]
     },
     "execution_count": 11,
     "metadata": {},
     "output_type": "execute_result"
    }
   ],
   "source": [
    "GetQuery(f\"\"\"\n",
    "SELECT symbol, risk_score FROM ticker_risk_scores WHERE\n",
    "symbol IN {tuple(coins.symbol)} AND risk_score<=0.8\n",
    "\"\"\").sort_values('risk_score')"
   ]
  },
  {
   "cell_type": "markdown",
   "id": "59b3fab7",
   "metadata": {},
   "source": [
    "## Conclusion"
   ]
  },
  {
   "cell_type": "markdown",
   "id": "4768de1c",
   "metadata": {},
   "source": [
    "We will have 6011 securities with match scores on the platform\n",
    "\n",
    "- Stocks: 4284\n",
    "\n",
    "- ETFs and funds: 1547\n",
    "\n",
    "- Crypto: 80"
   ]
  },
  {
   "cell_type": "code",
   "execution_count": 12,
   "id": "2e4c2685",
   "metadata": {},
   "outputs": [],
   "source": [
    "all_risk_ranked = pd.concat([\n",
    "    stocks[['symbol','type']],\n",
    "    etfs[['symbol', 'type']],\n",
    "    coins[['symbol', 'type']]\n",
    "], ignore_index=True)"
   ]
  },
  {
   "cell_type": "code",
   "execution_count": 13,
   "id": "e7fa8355",
   "metadata": {},
   "outputs": [
    {
     "data": {
      "text/plain": [
       "(6007, 2)"
      ]
     },
     "execution_count": 13,
     "metadata": {},
     "output_type": "execute_result"
    }
   ],
   "source": [
    "all_risk_ranked.shape"
   ]
  },
  {
   "cell_type": "code",
   "execution_count": 14,
   "id": "26b04cfe",
   "metadata": {},
   "outputs": [
    {
     "data": {
      "text/plain": [
       "type\n",
       "common stock       4195\n",
       "crypto               80\n",
       "etf                1442\n",
       "fund                215\n",
       "preferred stock      75\n",
       "Name: symbol, dtype: int64"
      ]
     },
     "execution_count": 14,
     "metadata": {},
     "output_type": "execute_result"
    }
   ],
   "source": [
    "all_risk_ranked.groupby('type').symbol.count()"
   ]
  },
  {
   "cell_type": "code",
   "execution_count": 15,
   "id": "d3c64686",
   "metadata": {},
   "outputs": [],
   "source": [
    "all_risk_ranked.to_csv('./list_ranked.csv')"
   ]
  },
  {
   "cell_type": "markdown",
   "id": "d55bee88",
   "metadata": {},
   "source": [
    "## Check if tradable"
   ]
  },
  {
   "cell_type": "markdown",
   "id": "586c0810",
   "metadata": {},
   "source": [
    "The ones that we can trade will also have 'Invest' button"
   ]
  },
  {
   "cell_type": "code",
   "execution_count": 16,
   "id": "6a166293",
   "metadata": {},
   "outputs": [],
   "source": [
    "trade = pd.read_csv(\"./Instruments List_PROD_NOV2022.csv\")"
   ]
  },
  {
   "cell_type": "code",
   "execution_count": 17,
   "id": "fa4682c8",
   "metadata": {},
   "outputs": [],
   "source": [
    "tradable_not_ranked = list(set(trade.Symbol) - set(all_risk_ranked.symbol))"
   ]
  },
  {
   "cell_type": "code",
   "execution_count": 18,
   "id": "02d91f32",
   "metadata": {},
   "outputs": [
    {
     "data": {
      "text/plain": [
       "2116"
      ]
     },
     "execution_count": 18,
     "metadata": {},
     "output_type": "execute_result"
    }
   ],
   "source": [
    "len(tradable_not_ranked)"
   ]
  },
  {
   "cell_type": "code",
   "execution_count": 19,
   "id": "90146fe0",
   "metadata": {},
   "outputs": [
    {
     "data": {
      "text/plain": [
       "['FBRX',\n",
       " 'OWLT',\n",
       " 'KLTR',\n",
       " 'GXG',\n",
       " 'FMITX',\n",
       " 'EZU',\n",
       " 'BGLD',\n",
       " 'CIBFX',\n",
       " 'HELX',\n",
       " 'KBND',\n",
       " 'BALT',\n",
       " 'PTTAX',\n",
       " 'CLIX',\n",
       " 'VWNFX',\n",
       " 'IQSU',\n",
       " 'CMMB',\n",
       " 'BJBHX',\n",
       " 'ELVT',\n",
       " 'EAOK',\n",
       " 'VHAQ',\n",
       " 'EVIBX',\n",
       " 'VMLUX',\n",
       " 'GSID',\n",
       " 'HYUP',\n",
       " 'FDEC',\n",
       " 'FAUG',\n",
       " 'SGENX',\n",
       " 'LZAGY',\n",
       " 'AGLE',\n",
       " 'FKGRX']"
      ]
     },
     "execution_count": 19,
     "metadata": {},
     "output_type": "execute_result"
    }
   ],
   "source": [
    "tradable_not_ranked[:30]"
   ]
  },
  {
   "cell_type": "code",
   "execution_count": 20,
   "id": "374cbc75",
   "metadata": {},
   "outputs": [
    {
     "data": {
      "text/plain": [
       "707"
      ]
     },
     "execution_count": 20,
     "metadata": {},
     "output_type": "execute_result"
    }
   ],
   "source": [
    "ranked_not_tradable = list(set(all_risk_ranked.symbol.str.replace(\"-\",\".\")) - set(trade.Symbol))\n",
    "len(ranked_not_tradable)"
   ]
  },
  {
   "cell_type": "code",
   "execution_count": 21,
   "id": "59e9affd",
   "metadata": {},
   "outputs": [
    {
     "data": {
      "text/plain": [
       "['JKJ',\n",
       " 'FLYA',\n",
       " 'XL',\n",
       " 'EOCT',\n",
       " 'RF.PC',\n",
       " 'FVAM',\n",
       " 'USCT',\n",
       " 'RFDA',\n",
       " 'YALL',\n",
       " 'ETHW.CC',\n",
       " 'BTSE.CC',\n",
       " 'JILL',\n",
       " 'JPSE',\n",
       " 'BKIE',\n",
       " 'ATOM.CC',\n",
       " 'SLCR',\n",
       " 'CVET',\n",
       " 'NVBW',\n",
       " 'NBCM',\n",
       " 'JKK',\n",
       " 'THCP',\n",
       " 'IACC',\n",
       " 'ROLL',\n",
       " 'AMPY',\n",
       " 'NBH',\n",
       " 'WFC.PY',\n",
       " 'DFSE',\n",
       " 'QRHC',\n",
       " 'CGABL',\n",
       " 'CMLS']"
      ]
     },
     "execution_count": 21,
     "metadata": {},
     "output_type": "execute_result"
    }
   ],
   "source": [
    "ranked_not_tradable[:30]"
   ]
  },
  {
   "cell_type": "code",
   "execution_count": 22,
   "id": "d5fef53a",
   "metadata": {},
   "outputs": [],
   "source": [
    "ranked_and_tradable = [v for v in all_risk_ranked.symbol.str.replace(\"-\",\".\") if v in trade.Symbol.values]"
   ]
  },
  {
   "cell_type": "code",
   "execution_count": 23,
   "id": "3b51672b",
   "metadata": {},
   "outputs": [
    {
     "data": {
      "text/plain": [
       "5300"
      ]
     },
     "execution_count": 23,
     "metadata": {},
     "output_type": "execute_result"
    }
   ],
   "source": [
    "len(ranked_and_tradable)"
   ]
  },
  {
   "cell_type": "code",
   "execution_count": 24,
   "id": "93912eb2",
   "metadata": {},
   "outputs": [],
   "source": [
    "# Check that all TTF stocks have a rank"
   ]
  },
  {
   "cell_type": "code",
   "execution_count": 25,
   "id": "5ff43c9b",
   "metadata": {},
   "outputs": [],
   "source": [
    "ttfs = GetQuery(\"\"\"\n",
    "SELECT distinct(symbol) FROM collection_ticker_weights\n",
    "WHERE date::date>='2022-12-01' AND weight IS NOT NULL\n",
    "\"\"\")"
   ]
  },
  {
   "cell_type": "code",
   "execution_count": 26,
   "id": "688628b3",
   "metadata": {},
   "outputs": [
    {
     "data": {
      "text/plain": [
       "{'AGFY',\n",
       " 'ARBK',\n",
       " 'FTEK',\n",
       " 'HNRG',\n",
       " 'IREN',\n",
       " 'LTCH',\n",
       " 'SDIG',\n",
       " 'SRS',\n",
       " 'USX',\n",
       " 'VLTA',\n",
       " 'VORB',\n",
       " 'WRE',\n",
       " 'WULF'}"
      ]
     },
     "execution_count": 26,
     "metadata": {},
     "output_type": "execute_result"
    }
   ],
   "source": [
    "set(ttfs.symbol.str.replace(\"-\",\".\")) - set(ranked_and_tradable)"
   ]
  },
  {
   "cell_type": "code",
   "execution_count": 27,
   "id": "ec31e125",
   "metadata": {},
   "outputs": [
    {
     "data": {
      "text/plain": [
       "{'ARBK', 'FTEK', 'HNRG', 'SRS', 'WRE', 'WULF'}"
      ]
     },
     "execution_count": 27,
     "metadata": {},
     "output_type": "execute_result"
    }
   ],
   "source": [
    "set(ttfs.symbol.str.replace(\"-\",\".\")) - set(trade.Symbol)"
   ]
  }
 ],
 "metadata": {
  "kernelspec": {
   "display_name": "Python 3 (ipykernel)",
   "language": "python",
   "name": "python3"
  },
  "language_info": {
   "codemirror_mode": {
    "name": "ipython",
    "version": 3
   },
   "file_extension": ".py",
   "mimetype": "text/x-python",
   "name": "python",
   "nbconvert_exporter": "python",
   "pygments_lexer": "ipython3",
   "version": "3.10.3"
  }
 },
 "nbformat": 4,
 "nbformat_minor": 5
}
